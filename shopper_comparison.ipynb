{
 "cells": [
  {
   "attachments": {},
   "cell_type": "markdown",
   "metadata": {},
   "source": [
    "## Shopper Hiring Problem\n",
    "\n",
    "#### Author: David Tan\n",
    "#### Feb 19, 2022\n",
    "\n",
    "### Context\n",
    " - In this simulated dataset, we have been running an A/B test on our shopper hiring funnel to see if initiating the required applicant background check earlier in the process would improve conversion rates. The theory is that shoppers will maintain their momentum and be more likely to start (and start more quickly) if the required pre-requisties are complete faster. \n",
    " - The background check costs us 30 dollars to complete. A shopper must both activate the prepaid debit card we mail to them (to use when paying for groceries purchased for our customers) and have successfully passed their background check to complete their first batch of orders. Completing the online orientation, however, is optional. \n",
    " - In this scenario, \"success\" for our shopper recruiting funnel is achieved if they complete their first batch (see \"first_batch_completed_date\")\n",
    " \n",
    "### Questions\n",
    " - Based on this data, what can we conclude at this point from the A/B test (in which we tried initiating the background check earlier in the hiring process for the treatment shoppers)? And how confident should we be in this conclusion?\n",
    " - We'd like to know if this change is cost-effective. How should we think about the cost effectiveness or return on investment of this change? And what if the cost of the backgorund check was actually 50 dollars, or 100 dollars (instead of 30 dollars)?\n"
   ]
  },
  {
   "cell_type": "markdown",
   "metadata": {},
   "source": [
    "### Read in data\n",
    "\n",
    "First, let's take a look at the data and find the most appropriate DS method to this problem. "
   ]
  },
  {
   "cell_type": "code",
   "execution_count": 1,
   "metadata": {},
   "outputs": [],
   "source": [
    "#Import required libraries:\n",
    "import numpy as np\n",
    "import pandas as pd\n",
    "pd.set_option('display.max_columns', None)\n",
    "import matplotlib.pyplot as plt\n",
    "import matplotlib.patches as mpatches #for custom legends\n",
    "import seaborn as sns\n",
    "from lifelines import KaplanMeierFitter #survival analysis library\n",
    "from lifelines.statistics import logrank_test #survival statistical testing\n",
    "from lifelines import CoxPHFitter\n",
    "%matplotlib inline"
   ]
  },
  {
   "cell_type": "code",
   "execution_count": 2,
   "metadata": {},
   "outputs": [
    {
     "data": {
      "text/html": [
       "<div>\n",
       "<style scoped>\n",
       "    .dataframe tbody tr th:only-of-type {\n",
       "        vertical-align: middle;\n",
       "    }\n",
       "\n",
       "    .dataframe tbody tr th {\n",
       "        vertical-align: top;\n",
       "    }\n",
       "\n",
       "    .dataframe thead th {\n",
       "        text-align: right;\n",
       "    }\n",
       "</style>\n",
       "<table border=\"1\" class=\"dataframe\">\n",
       "  <thead>\n",
       "    <tr style=\"text-align: right;\">\n",
       "      <th></th>\n",
       "      <th>applicant_id</th>\n",
       "      <th>channel</th>\n",
       "      <th>group</th>\n",
       "      <th>city</th>\n",
       "      <th>event</th>\n",
       "      <th>event_date</th>\n",
       "    </tr>\n",
       "  </thead>\n",
       "  <tbody>\n",
       "    <tr>\n",
       "      <th>0</th>\n",
       "      <td>10001</td>\n",
       "      <td>web-search-engine</td>\n",
       "      <td>control</td>\n",
       "      <td>Asgard</td>\n",
       "      <td>application_date</td>\n",
       "      <td>10/1/18</td>\n",
       "    </tr>\n",
       "    <tr>\n",
       "      <th>1</th>\n",
       "      <td>10002</td>\n",
       "      <td>social-media</td>\n",
       "      <td>control</td>\n",
       "      <td>Midgard</td>\n",
       "      <td>application_date</td>\n",
       "      <td>10/1/18</td>\n",
       "    </tr>\n",
       "    <tr>\n",
       "      <th>2</th>\n",
       "      <td>10003</td>\n",
       "      <td>web-search-engine</td>\n",
       "      <td>treatment</td>\n",
       "      <td>Midgard</td>\n",
       "      <td>application_date</td>\n",
       "      <td>10/1/18</td>\n",
       "    </tr>\n",
       "    <tr>\n",
       "      <th>3</th>\n",
       "      <td>10004</td>\n",
       "      <td>social-media</td>\n",
       "      <td>treatment</td>\n",
       "      <td>Asgard</td>\n",
       "      <td>application_date</td>\n",
       "      <td>10/1/18</td>\n",
       "    </tr>\n",
       "    <tr>\n",
       "      <th>4</th>\n",
       "      <td>10005</td>\n",
       "      <td>social-media</td>\n",
       "      <td>treatment</td>\n",
       "      <td>Midgard</td>\n",
       "      <td>application_date</td>\n",
       "      <td>10/1/18</td>\n",
       "    </tr>\n",
       "  </tbody>\n",
       "</table>\n",
       "</div>"
      ],
      "text/plain": [
       "   applicant_id            channel      group     city             event  \\\n",
       "0         10001  web-search-engine    control   Asgard  application_date   \n",
       "1         10002       social-media    control  Midgard  application_date   \n",
       "2         10003  web-search-engine  treatment  Midgard  application_date   \n",
       "3         10004       social-media  treatment   Asgard  application_date   \n",
       "4         10005       social-media  treatment  Midgard  application_date   \n",
       "\n",
       "  event_date  \n",
       "0    10/1/18  \n",
       "1    10/1/18  \n",
       "2    10/1/18  \n",
       "3    10/1/18  \n",
       "4    10/1/18  "
      ]
     },
     "execution_count": 2,
     "metadata": {},
     "output_type": "execute_result"
    }
   ],
   "source": [
    "# Read the data:\n",
    "data = pd.read_csv(\"shopper.csv\")\n",
    "data.head()"
   ]
  },
  {
   "cell_type": "code",
   "execution_count": 3,
   "metadata": {},
   "outputs": [
    {
     "data": {
      "text/html": [
       "<div>\n",
       "<style scoped>\n",
       "    .dataframe tbody tr th:only-of-type {\n",
       "        vertical-align: middle;\n",
       "    }\n",
       "\n",
       "    .dataframe tbody tr th {\n",
       "        vertical-align: top;\n",
       "    }\n",
       "\n",
       "    .dataframe thead th {\n",
       "        text-align: right;\n",
       "    }\n",
       "</style>\n",
       "<table border=\"1\" class=\"dataframe\">\n",
       "  <thead>\n",
       "    <tr style=\"text-align: right;\">\n",
       "      <th></th>\n",
       "      <th>applicant_id</th>\n",
       "      <th>channel</th>\n",
       "      <th>group</th>\n",
       "      <th>city</th>\n",
       "      <th>event</th>\n",
       "      <th>event_date</th>\n",
       "    </tr>\n",
       "  </thead>\n",
       "  <tbody>\n",
       "    <tr>\n",
       "      <th>108323</th>\n",
       "      <td>29128</td>\n",
       "      <td>web-search-engine</td>\n",
       "      <td>treatment</td>\n",
       "      <td>Asgard</td>\n",
       "      <td>first_batch_completed_date</td>\n",
       "      <td>11/11/18</td>\n",
       "    </tr>\n",
       "    <tr>\n",
       "      <th>108324</th>\n",
       "      <td>29161</td>\n",
       "      <td>web-search-engine</td>\n",
       "      <td>treatment</td>\n",
       "      <td>Vanaheim</td>\n",
       "      <td>first_batch_completed_date</td>\n",
       "      <td>11/10/18</td>\n",
       "    </tr>\n",
       "    <tr>\n",
       "      <th>108325</th>\n",
       "      <td>29167</td>\n",
       "      <td>shopper-referral-bonus</td>\n",
       "      <td>treatment</td>\n",
       "      <td>Jotunheim</td>\n",
       "      <td>first_batch_completed_date</td>\n",
       "      <td>11/11/18</td>\n",
       "    </tr>\n",
       "    <tr>\n",
       "      <th>108326</th>\n",
       "      <td>29170</td>\n",
       "      <td>shopper-referral-bonus</td>\n",
       "      <td>treatment</td>\n",
       "      <td>Alfheim</td>\n",
       "      <td>first_batch_completed_date</td>\n",
       "      <td>11/11/18</td>\n",
       "    </tr>\n",
       "    <tr>\n",
       "      <th>108327</th>\n",
       "      <td>29274</td>\n",
       "      <td>shopper-referral-bonus</td>\n",
       "      <td>treatment</td>\n",
       "      <td>Asgard</td>\n",
       "      <td>first_batch_completed_date</td>\n",
       "      <td>11/11/18</td>\n",
       "    </tr>\n",
       "  </tbody>\n",
       "</table>\n",
       "</div>"
      ],
      "text/plain": [
       "        applicant_id                 channel      group       city  \\\n",
       "108323         29128       web-search-engine  treatment     Asgard   \n",
       "108324         29161       web-search-engine  treatment   Vanaheim   \n",
       "108325         29167  shopper-referral-bonus  treatment  Jotunheim   \n",
       "108326         29170  shopper-referral-bonus  treatment    Alfheim   \n",
       "108327         29274  shopper-referral-bonus  treatment     Asgard   \n",
       "\n",
       "                             event event_date  \n",
       "108323  first_batch_completed_date   11/11/18  \n",
       "108324  first_batch_completed_date   11/10/18  \n",
       "108325  first_batch_completed_date   11/11/18  \n",
       "108326  first_batch_completed_date   11/11/18  \n",
       "108327  first_batch_completed_date   11/11/18  "
      ]
     },
     "execution_count": 3,
     "metadata": {},
     "output_type": "execute_result"
    }
   ],
   "source": [
    "data.tail()"
   ]
  },
  {
   "cell_type": "code",
   "execution_count": 4,
   "metadata": {},
   "outputs": [
    {
     "data": {
      "text/plain": [
       "((108328, 6),\n",
       " applicant_id     int64\n",
       " channel         object\n",
       " group           object\n",
       " city            object\n",
       " event           object\n",
       " event_date      object\n",
       " dtype: object)"
      ]
     },
     "execution_count": 4,
     "metadata": {},
     "output_type": "execute_result"
    }
   ],
   "source": [
    "# Check dimension and column types:\n",
    "data.shape, data.dtypes"
   ]
  },
  {
   "cell_type": "code",
   "execution_count": 5,
   "metadata": {},
   "outputs": [
    {
     "name": "stdout",
     "output_type": "stream",
     "text": [
      "[10001 10002 10003 ... 31696 31697 31698]\n",
      "['web-search-engine' 'social-media' 'job-search-site'\n",
      " 'shopper-referral-bonus']\n",
      "['control' 'treatment']\n",
      "['Asgard' 'Midgard' 'Helheim' 'Alfheim' 'Jotunheim' 'Niflheim' 'Vanaheim'\n",
      " 'Muspelheim' 'Svartalfheim']\n",
      "['application_date' 'card_mailed_date' 'orientation_completed_date'\n",
      " 'card_activation_date' 'background_check_initiated_date'\n",
      " 'background_check_completed_date' 'first_batch_completed_date']\n",
      "['10/1/18' '10/2/18' '10/3/18' '10/4/18' '10/5/18' '10/6/18' '10/7/18'\n",
      " '10/8/18' '10/9/18' '10/10/18' '10/11/18' '10/12/18' '10/13/18'\n",
      " '10/14/18' '10/15/18' '10/16/18' '10/17/18' '10/18/18' '10/19/18'\n",
      " '10/20/18' '10/21/18' '10/22/18' '10/23/18' '10/24/18' '10/25/18'\n",
      " '10/26/18' '10/27/18' '10/28/18' '10/29/18' '10/30/18' '10/31/18'\n",
      " '11/1/18' '11/2/18' '11/3/18' '11/4/18' '11/5/18' '11/6/18' '11/7/18'\n",
      " '11/8/18' '11/9/18' '11/10/18' '11/11/18']\n"
     ]
    }
   ],
   "source": [
    "# check unique values:\n",
    "for i in data.columns:\n",
    "    print(data[i].unique())"
   ]
  },
  {
   "cell_type": "code",
   "execution_count": 6,
   "metadata": {},
   "outputs": [
    {
     "data": {
      "text/plain": [
       "False"
      ]
     },
     "execution_count": 6,
     "metadata": {},
     "output_type": "execute_result"
    }
   ],
   "source": [
    "# check missing or NaN\n",
    "data.isnull().values.any()"
   ]
  },
  {
   "cell_type": "code",
   "execution_count": 7,
   "metadata": {},
   "outputs": [
    {
     "name": "stdout",
     "output_type": "stream",
     "text": [
      "control sample size:  14501\n",
      "treatment sample size:  7197\n",
      "control : treatment: 2.0148673058218702 : 1\n"
     ]
    }
   ],
   "source": [
    "# check the original sample sizes\n",
    "control_size = data[(data['group'] == 'control') & (data['event'] == 'application_date')].applicant_id.count()\n",
    "treatment_size = data[(data['group'] == 'treatment') & (data['event'] == 'application_date')].applicant_id.count()\n",
    "print('control sample size: ', control_size)\n",
    "print('treatment sample size: ', treatment_size)\n",
    "print('control : treatment:', control_size/treatment_size, ': 1')"
   ]
  },
  {
   "cell_type": "markdown",
   "metadata": {},
   "source": [
    "The ratio of control to treatment is 2 : 1. When the control group is big, the power of the study is increased which can detect a significant difference. "
   ]
  },
  {
   "cell_type": "code",
   "execution_count": 8,
   "metadata": {},
   "outputs": [
    {
     "name": "stdout",
     "output_type": "stream",
     "text": [
      "['10/1/18' '10/2/18' '10/3/18' '10/4/18' '10/5/18' '10/6/18' '10/7/18'\n",
      " '10/8/18' '10/9/18' '10/10/18' '10/11/18' '10/12/18' '10/13/18'\n",
      " '10/14/18' '10/15/18' '10/16/18' '10/17/18' '10/18/18' '10/19/18'\n",
      " '10/20/18' '10/21/18' '10/22/18' '10/23/18' '10/24/18' '10/25/18'\n",
      " '10/26/18' '10/27/18' '10/28/18' '10/29/18' '10/30/18' '10/31/18'\n",
      " '11/1/18' '11/2/18' '11/3/18' '11/4/18' '11/5/18' '11/6/18' '11/7/18'\n",
      " '11/8/18' '11/9/18' '11/10/18' '11/11/18'] ['10/1/18' '10/2/18' '10/3/18' '10/4/18' '10/5/18' '10/6/18' '10/7/18'\n",
      " '10/8/18' '10/9/18' '10/10/18' '10/11/18' '10/12/18' '10/13/18'\n",
      " '10/14/18' '10/15/18' '10/16/18' '10/17/18' '10/18/18' '10/19/18'\n",
      " '10/20/18' '10/21/18' '10/22/18' '10/23/18' '10/24/18' '10/25/18'\n",
      " '10/26/18' '10/27/18' '10/28/18' '10/29/18' '10/30/18' '10/31/18'\n",
      " '11/1/18' '11/2/18' '11/3/18' '11/4/18' '11/5/18' '11/6/18' '11/7/18'\n",
      " '11/8/18' '11/9/18' '11/10/18' '11/11/18']\n"
     ]
    }
   ],
   "source": [
    "# check study beginning date for both control and treatment\n",
    "print(data[(data['group'] == 'control') & (data['event'] == 'application_date')].event_date.unique(), \n",
    "data[(data['group'] == 'treatment') & (data['event'] == 'application_date')].event_date.unique())"
   ]
  },
  {
   "cell_type": "markdown",
   "metadata": {},
   "source": [
    "This shows that shoppers enter our study from different dates. Their onboarding process are different in terms of time. Different shoppers have different \"background_check_initiated_date\" and \"first_batch_completed_date\". "
   ]
  },
  {
   "cell_type": "markdown",
   "metadata": {},
   "source": [
    "### Methdology\n",
    "\n",
    "After scanning the data, we can conclude that it is a \"time-to-event analysis\". In our case, we can use survival analysis to find out the time it takes for an applicant to convert to a real shopper. Our question becomes \"Do we convert more applicants to shoppers and convert more faster if we perform a new hiring strategy (required applicant background check earlier in the process)?\""
   ]
  },
  {
   "cell_type": "markdown",
   "metadata": {},
   "source": [
    "In this case study, we want to find the number of days until a shopper completed the first batch. We are also interested in which group (control or treatment) completed the first batch faster. It's tempting to think that the lower the survival rate, the faster shoppers completing the first batch. Therefore, we perform the following analysis to answer the two questions:\n",
    "\n",
    " - What is the probability that a shopper 'survives' (i.e. hasn't completed the first batch) a specific period?\n",
    " - Are there differences in survival curve between control and treatment?\n",
    "\n",
    "We will rely on the following methods:\n",
    "\n",
    "(1) Kaplan-Meier plots to visualize survival curves.\n",
    "\n",
    "(2) Nelson-Aalen plots to visualize the cumulative hazard.\n",
    "\n",
    "(3) Log-rank test to compare the survival curves of two groups. \n",
    "\n",
    "As mentioned, survival analysis focuses on the occurrence of an event of interest (completing the first batch). But it's possible that the event may not be ovserved for various reasons. Such observations are known as censored observations. \n",
    "\n",
    "Censoring may arise from (1) A shopper has not yet delivered the first batch within out study period. (2) A shopper is not being followed anymore (i.e. move to other places). This type of censoring, called right censoring, is handled in our analysis. Right censoring derives its name from the fact that time is typically displayed from left to right.\n",
    "\n",
    "Now, it's time to implement the theory from the above."
   ]
  },
  {
   "cell_type": "markdown",
   "metadata": {},
   "source": [
    "### Organize data\n",
    "\n",
    "We first need to organize our data. Notice that the final conversion funnel is \"first_batch_completed_date\" but there are several intermediate events between application and completing the first batch. **We are interested to learn the impact from the intermediate events on the final conversion rate.** Hence, we will perform sub-tests to compare the survival curves and estimate hazards for each event.   \n",
    "\n",
    "We add new columns to store the data about whether a applicant has encountered each event and the number of days since submitting the application. "
   ]
  },
  {
   "cell_type": "code",
   "execution_count": 9,
   "metadata": {},
   "outputs": [],
   "source": [
    "# change event_date to datetime\n",
    "data['event_date'] = pd.to_datetime(data['event_date'])\n",
    "\n",
    "# transpose df: vertical events to horizon \n",
    "data_trans = pd.crosstab(data.applicant_id, data.event)\n",
    "data_trans = pd.merge(data.loc[data['event'] == 'application_date'], data_trans, on = 'applicant_id')\n",
    "data_trans.rename(columns = {'application_date': 'application_indicator',\n",
    "                'card_mailed_date': 'card_mailed',\n",
    "                'orientation_completed_date': 'orientation_completed',\n",
    "                'card_activation_date': 'card_activated',\n",
    "                'background_check_initiated_date': 'background_check_initiated',\n",
    "                'background_check_completed_date': 'background_check_completed',\n",
    "                'first_batch_completed_date': 'first_batch_completed'}, inplace=True)"
   ]
  },
  {
   "cell_type": "code",
   "execution_count": 10,
   "metadata": {},
   "outputs": [],
   "source": [
    "# compute study duration - right censoring time\n",
    "study_period = max(data[data['event'] == 'first_batch_completed_date'][\"event_date\"]) - \\\n",
    "                min(data[data['event'] == 'application_date'][\"event_date\"])\n",
    "\n",
    "# compute days since application for each event until first_batch_completed\n",
    "events = ['card_mailed_date', 'orientation_completed_date', 'card_activation_date', 'background_check_initiated_date',\n",
    "'background_check_completed_date', 'first_batch_completed_date']\n",
    "\n",
    "for event in events:\n",
    "    df = pd.DataFrame(data.pivot('applicant_id','event','event_date').\\\n",
    "            assign(days_diff = lambda x: x[event] - x['application_date'])['days_diff'])\n",
    "    col_name = event[:-4] + 'days'\n",
    "    df.rename(columns = {'days_diff':col_name}, inplace = True)\n",
    "    df[col_name] = df[col_name].dt.days\n",
    "    df[col_name].fillna(study_period.days, inplace=True)\n",
    "    data_trans = pd.merge(data_trans, df, on = \"applicant_id\")"
   ]
  },
  {
   "cell_type": "code",
   "execution_count": 11,
   "metadata": {},
   "outputs": [],
   "source": [
    "# compute days between background check initiated and background check completed\n",
    "df = pd.DataFrame(data.pivot('applicant_id','event','event_date').\\\n",
    "        assign(background_check_days = lambda x: x['background_check_completed_date'] - x['background_check_initiated_date'])['background_check_days'])\n",
    "df['background_check_days'] = df['background_check_days'].dt.days\n",
    "df['background_check_days'].fillna(study_period.days, inplace=True)\n",
    "data_trans = pd.merge(data_trans, df, on = \"applicant_id\")"
   ]
  },
  {
   "cell_type": "code",
   "execution_count": 12,
   "metadata": {},
   "outputs": [],
   "source": [
    "# compute days between background check completed and first batch completed\n",
    "df = pd.DataFrame(data.pivot('applicant_id','event','event_date').\\\n",
    "        assign(bc_to_first_batch_days = lambda x: x['first_batch_completed_date'] - x['background_check_completed_date'])['bc_to_first_batch_days'])\n",
    "df['bc_to_first_batch_days'] = df['bc_to_first_batch_days'].dt.days\n",
    "df['bc_to_first_batch_days'].fillna(study_period.days, inplace=True)\n",
    "data_trans = pd.merge(data_trans, df, on = \"applicant_id\")"
   ]
  },
  {
   "cell_type": "code",
   "execution_count": 13,
   "metadata": {},
   "outputs": [
    {
     "data": {
      "text/html": [
       "<div>\n",
       "<style scoped>\n",
       "    .dataframe tbody tr th:only-of-type {\n",
       "        vertical-align: middle;\n",
       "    }\n",
       "\n",
       "    .dataframe tbody tr th {\n",
       "        vertical-align: top;\n",
       "    }\n",
       "\n",
       "    .dataframe thead th {\n",
       "        text-align: right;\n",
       "    }\n",
       "</style>\n",
       "<table border=\"1\" class=\"dataframe\">\n",
       "  <thead>\n",
       "    <tr style=\"text-align: right;\">\n",
       "      <th></th>\n",
       "      <th>applicant_id</th>\n",
       "      <th>channel</th>\n",
       "      <th>group</th>\n",
       "      <th>city</th>\n",
       "      <th>event</th>\n",
       "      <th>event_date</th>\n",
       "      <th>application_indicator</th>\n",
       "      <th>background_check_completed</th>\n",
       "      <th>background_check_initiated</th>\n",
       "      <th>card_activated</th>\n",
       "      <th>card_mailed</th>\n",
       "      <th>first_batch_completed</th>\n",
       "      <th>orientation_completed</th>\n",
       "      <th>card_mailed_days</th>\n",
       "      <th>orientation_completed_days</th>\n",
       "      <th>card_activation_days</th>\n",
       "      <th>background_check_initiated_days</th>\n",
       "      <th>background_check_completed_days</th>\n",
       "      <th>first_batch_completed_days</th>\n",
       "      <th>background_check_days</th>\n",
       "      <th>bc_to_first_batch_days</th>\n",
       "    </tr>\n",
       "  </thead>\n",
       "  <tbody>\n",
       "    <tr>\n",
       "      <th>0</th>\n",
       "      <td>10001</td>\n",
       "      <td>web-search-engine</td>\n",
       "      <td>control</td>\n",
       "      <td>Asgard</td>\n",
       "      <td>application_date</td>\n",
       "      <td>2018-10-01</td>\n",
       "      <td>1</td>\n",
       "      <td>0</td>\n",
       "      <td>0</td>\n",
       "      <td>0</td>\n",
       "      <td>1</td>\n",
       "      <td>0</td>\n",
       "      <td>1</td>\n",
       "      <td>0.0</td>\n",
       "      <td>2.0</td>\n",
       "      <td>41.0</td>\n",
       "      <td>41.0</td>\n",
       "      <td>41.0</td>\n",
       "      <td>41.0</td>\n",
       "      <td>41.0</td>\n",
       "      <td>41.0</td>\n",
       "    </tr>\n",
       "    <tr>\n",
       "      <th>1</th>\n",
       "      <td>10002</td>\n",
       "      <td>social-media</td>\n",
       "      <td>control</td>\n",
       "      <td>Midgard</td>\n",
       "      <td>application_date</td>\n",
       "      <td>2018-10-01</td>\n",
       "      <td>1</td>\n",
       "      <td>1</td>\n",
       "      <td>1</td>\n",
       "      <td>1</td>\n",
       "      <td>1</td>\n",
       "      <td>1</td>\n",
       "      <td>0</td>\n",
       "      <td>0.0</td>\n",
       "      <td>41.0</td>\n",
       "      <td>11.0</td>\n",
       "      <td>11.0</td>\n",
       "      <td>16.0</td>\n",
       "      <td>19.0</td>\n",
       "      <td>5.0</td>\n",
       "      <td>3.0</td>\n",
       "    </tr>\n",
       "    <tr>\n",
       "      <th>2</th>\n",
       "      <td>10003</td>\n",
       "      <td>web-search-engine</td>\n",
       "      <td>treatment</td>\n",
       "      <td>Midgard</td>\n",
       "      <td>application_date</td>\n",
       "      <td>2018-10-01</td>\n",
       "      <td>1</td>\n",
       "      <td>1</td>\n",
       "      <td>1</td>\n",
       "      <td>1</td>\n",
       "      <td>1</td>\n",
       "      <td>0</td>\n",
       "      <td>1</td>\n",
       "      <td>1.0</td>\n",
       "      <td>4.0</td>\n",
       "      <td>3.0</td>\n",
       "      <td>0.0</td>\n",
       "      <td>7.0</td>\n",
       "      <td>41.0</td>\n",
       "      <td>7.0</td>\n",
       "      <td>41.0</td>\n",
       "    </tr>\n",
       "    <tr>\n",
       "      <th>3</th>\n",
       "      <td>10004</td>\n",
       "      <td>social-media</td>\n",
       "      <td>treatment</td>\n",
       "      <td>Asgard</td>\n",
       "      <td>application_date</td>\n",
       "      <td>2018-10-01</td>\n",
       "      <td>1</td>\n",
       "      <td>1</td>\n",
       "      <td>1</td>\n",
       "      <td>1</td>\n",
       "      <td>1</td>\n",
       "      <td>1</td>\n",
       "      <td>0</td>\n",
       "      <td>0.0</td>\n",
       "      <td>41.0</td>\n",
       "      <td>3.0</td>\n",
       "      <td>0.0</td>\n",
       "      <td>4.0</td>\n",
       "      <td>5.0</td>\n",
       "      <td>4.0</td>\n",
       "      <td>1.0</td>\n",
       "    </tr>\n",
       "    <tr>\n",
       "      <th>4</th>\n",
       "      <td>10005</td>\n",
       "      <td>social-media</td>\n",
       "      <td>treatment</td>\n",
       "      <td>Midgard</td>\n",
       "      <td>application_date</td>\n",
       "      <td>2018-10-01</td>\n",
       "      <td>1</td>\n",
       "      <td>1</td>\n",
       "      <td>1</td>\n",
       "      <td>1</td>\n",
       "      <td>1</td>\n",
       "      <td>1</td>\n",
       "      <td>1</td>\n",
       "      <td>0.0</td>\n",
       "      <td>0.0</td>\n",
       "      <td>7.0</td>\n",
       "      <td>0.0</td>\n",
       "      <td>6.0</td>\n",
       "      <td>7.0</td>\n",
       "      <td>6.0</td>\n",
       "      <td>1.0</td>\n",
       "    </tr>\n",
       "  </tbody>\n",
       "</table>\n",
       "</div>"
      ],
      "text/plain": [
       "   applicant_id            channel      group     city             event  \\\n",
       "0         10001  web-search-engine    control   Asgard  application_date   \n",
       "1         10002       social-media    control  Midgard  application_date   \n",
       "2         10003  web-search-engine  treatment  Midgard  application_date   \n",
       "3         10004       social-media  treatment   Asgard  application_date   \n",
       "4         10005       social-media  treatment  Midgard  application_date   \n",
       "\n",
       "  event_date  application_indicator  background_check_completed  \\\n",
       "0 2018-10-01                      1                           0   \n",
       "1 2018-10-01                      1                           1   \n",
       "2 2018-10-01                      1                           1   \n",
       "3 2018-10-01                      1                           1   \n",
       "4 2018-10-01                      1                           1   \n",
       "\n",
       "   background_check_initiated  card_activated  card_mailed  \\\n",
       "0                           0               0            1   \n",
       "1                           1               1            1   \n",
       "2                           1               1            1   \n",
       "3                           1               1            1   \n",
       "4                           1               1            1   \n",
       "\n",
       "   first_batch_completed  orientation_completed  card_mailed_days  \\\n",
       "0                      0                      1               0.0   \n",
       "1                      1                      0               0.0   \n",
       "2                      0                      1               1.0   \n",
       "3                      1                      0               0.0   \n",
       "4                      1                      1               0.0   \n",
       "\n",
       "   orientation_completed_days  card_activation_days  \\\n",
       "0                         2.0                  41.0   \n",
       "1                        41.0                  11.0   \n",
       "2                         4.0                   3.0   \n",
       "3                        41.0                   3.0   \n",
       "4                         0.0                   7.0   \n",
       "\n",
       "   background_check_initiated_days  background_check_completed_days  \\\n",
       "0                             41.0                             41.0   \n",
       "1                             11.0                             16.0   \n",
       "2                              0.0                              7.0   \n",
       "3                              0.0                              4.0   \n",
       "4                              0.0                              6.0   \n",
       "\n",
       "   first_batch_completed_days  background_check_days  bc_to_first_batch_days  \n",
       "0                        41.0                   41.0                    41.0  \n",
       "1                        19.0                    5.0                     3.0  \n",
       "2                        41.0                    7.0                    41.0  \n",
       "3                         5.0                    4.0                     1.0  \n",
       "4                         7.0                    6.0                     1.0  "
      ]
     },
     "execution_count": 13,
     "metadata": {},
     "output_type": "execute_result"
    }
   ],
   "source": [
    "data_trans.head()"
   ]
  },
  {
   "cell_type": "markdown",
   "metadata": {},
   "source": [
    "Create an object for KaplanMeierFitter:   "
   ]
  },
  {
   "cell_type": "code",
   "execution_count": 14,
   "metadata": {},
   "outputs": [],
   "source": [
    "# Create the object\n",
    "# kmf_c for control group\n",
    "# kmf_t for treatment group\n",
    "kmf_c = KaplanMeierFitter()\n",
    "kmf_t = KaplanMeierFitter()\n",
    "\n",
    "# devide data into two groups\n",
    "data_c = data_trans.loc[data_trans['group'] == \"control\"]\n",
    "data_t = data_trans.loc[data_trans['group'] == 'treatment']"
   ]
  },
  {
   "cell_type": "code",
   "execution_count": 15,
   "metadata": {},
   "outputs": [
    {
     "data": {
      "text/html": [
       "<div>\n",
       "<style scoped>\n",
       "    .dataframe tbody tr th:only-of-type {\n",
       "        vertical-align: middle;\n",
       "    }\n",
       "\n",
       "    .dataframe tbody tr th {\n",
       "        vertical-align: top;\n",
       "    }\n",
       "\n",
       "    .dataframe thead th {\n",
       "        text-align: right;\n",
       "    }\n",
       "</style>\n",
       "<table border=\"1\" class=\"dataframe\">\n",
       "  <thead>\n",
       "    <tr style=\"text-align: right;\">\n",
       "      <th></th>\n",
       "      <th>applicant_id</th>\n",
       "      <th>application_indicator</th>\n",
       "      <th>background_check_completed</th>\n",
       "      <th>background_check_initiated</th>\n",
       "      <th>card_activated</th>\n",
       "      <th>card_mailed</th>\n",
       "      <th>first_batch_completed</th>\n",
       "      <th>orientation_completed</th>\n",
       "      <th>card_mailed_days</th>\n",
       "      <th>orientation_completed_days</th>\n",
       "      <th>card_activation_days</th>\n",
       "      <th>background_check_initiated_days</th>\n",
       "      <th>background_check_completed_days</th>\n",
       "      <th>first_batch_completed_days</th>\n",
       "      <th>background_check_days</th>\n",
       "      <th>bc_to_first_batch_days</th>\n",
       "    </tr>\n",
       "  </thead>\n",
       "  <tbody>\n",
       "    <tr>\n",
       "      <th>count</th>\n",
       "      <td>14501.000000</td>\n",
       "      <td>14501.0</td>\n",
       "      <td>14501.000000</td>\n",
       "      <td>14501.000000</td>\n",
       "      <td>14501.000000</td>\n",
       "      <td>14501.000000</td>\n",
       "      <td>14501.000000</td>\n",
       "      <td>14501.000000</td>\n",
       "      <td>14501.000000</td>\n",
       "      <td>14501.000000</td>\n",
       "      <td>14501.000000</td>\n",
       "      <td>14501.000000</td>\n",
       "      <td>14501.000000</td>\n",
       "      <td>14501.000000</td>\n",
       "      <td>14501.000000</td>\n",
       "      <td>14501.000000</td>\n",
       "    </tr>\n",
       "    <tr>\n",
       "      <th>mean</th>\n",
       "      <td>20851.431556</td>\n",
       "      <td>1.0</td>\n",
       "      <td>0.652093</td>\n",
       "      <td>0.747259</td>\n",
       "      <td>0.747259</td>\n",
       "      <td>0.983794</td>\n",
       "      <td>0.198124</td>\n",
       "      <td>0.412523</td>\n",
       "      <td>1.147093</td>\n",
       "      <td>25.230053</td>\n",
       "      <td>13.796221</td>\n",
       "      <td>13.796221</td>\n",
       "      <td>19.811875</td>\n",
       "      <td>34.858561</td>\n",
       "      <td>16.834977</td>\n",
       "      <td>33.255224</td>\n",
       "    </tr>\n",
       "    <tr>\n",
       "      <th>std</th>\n",
       "      <td>6262.755765</td>\n",
       "      <td>0.0</td>\n",
       "      <td>0.476323</td>\n",
       "      <td>0.434599</td>\n",
       "      <td>0.434599</td>\n",
       "      <td>0.126271</td>\n",
       "      <td>0.398600</td>\n",
       "      <td>0.492305</td>\n",
       "      <td>5.139121</td>\n",
       "      <td>18.874340</td>\n",
       "      <td>15.945685</td>\n",
       "      <td>15.945685</td>\n",
       "      <td>15.626098</td>\n",
       "      <td>12.420969</td>\n",
       "      <td>17.686948</td>\n",
       "      <td>15.593028</td>\n",
       "    </tr>\n",
       "    <tr>\n",
       "      <th>min</th>\n",
       "      <td>10001.000000</td>\n",
       "      <td>1.0</td>\n",
       "      <td>0.000000</td>\n",
       "      <td>0.000000</td>\n",
       "      <td>0.000000</td>\n",
       "      <td>0.000000</td>\n",
       "      <td>0.000000</td>\n",
       "      <td>0.000000</td>\n",
       "      <td>0.000000</td>\n",
       "      <td>0.000000</td>\n",
       "      <td>2.000000</td>\n",
       "      <td>2.000000</td>\n",
       "      <td>4.000000</td>\n",
       "      <td>4.000000</td>\n",
       "      <td>2.000000</td>\n",
       "      <td>0.000000</td>\n",
       "    </tr>\n",
       "    <tr>\n",
       "      <th>25%</th>\n",
       "      <td>15466.000000</td>\n",
       "      <td>1.0</td>\n",
       "      <td>0.000000</td>\n",
       "      <td>0.000000</td>\n",
       "      <td>0.000000</td>\n",
       "      <td>1.000000</td>\n",
       "      <td>0.000000</td>\n",
       "      <td>0.000000</td>\n",
       "      <td>0.000000</td>\n",
       "      <td>3.000000</td>\n",
       "      <td>3.000000</td>\n",
       "      <td>3.000000</td>\n",
       "      <td>7.000000</td>\n",
       "      <td>41.000000</td>\n",
       "      <td>3.000000</td>\n",
       "      <td>41.000000</td>\n",
       "    </tr>\n",
       "    <tr>\n",
       "      <th>50%</th>\n",
       "      <td>20874.000000</td>\n",
       "      <td>1.0</td>\n",
       "      <td>1.000000</td>\n",
       "      <td>1.000000</td>\n",
       "      <td>1.000000</td>\n",
       "      <td>1.000000</td>\n",
       "      <td>0.000000</td>\n",
       "      <td>0.000000</td>\n",
       "      <td>0.000000</td>\n",
       "      <td>41.000000</td>\n",
       "      <td>5.000000</td>\n",
       "      <td>5.000000</td>\n",
       "      <td>10.000000</td>\n",
       "      <td>41.000000</td>\n",
       "      <td>5.000000</td>\n",
       "      <td>41.000000</td>\n",
       "    </tr>\n",
       "    <tr>\n",
       "      <th>75%</th>\n",
       "      <td>26267.000000</td>\n",
       "      <td>1.0</td>\n",
       "      <td>1.000000</td>\n",
       "      <td>1.000000</td>\n",
       "      <td>1.000000</td>\n",
       "      <td>1.000000</td>\n",
       "      <td>0.000000</td>\n",
       "      <td>1.000000</td>\n",
       "      <td>1.000000</td>\n",
       "      <td>41.000000</td>\n",
       "      <td>41.000000</td>\n",
       "      <td>41.000000</td>\n",
       "      <td>41.000000</td>\n",
       "      <td>41.000000</td>\n",
       "      <td>41.000000</td>\n",
       "      <td>41.000000</td>\n",
       "    </tr>\n",
       "    <tr>\n",
       "      <th>max</th>\n",
       "      <td>31698.000000</td>\n",
       "      <td>1.0</td>\n",
       "      <td>1.000000</td>\n",
       "      <td>1.000000</td>\n",
       "      <td>1.000000</td>\n",
       "      <td>1.000000</td>\n",
       "      <td>1.000000</td>\n",
       "      <td>1.000000</td>\n",
       "      <td>41.000000</td>\n",
       "      <td>41.000000</td>\n",
       "      <td>41.000000</td>\n",
       "      <td>41.000000</td>\n",
       "      <td>41.000000</td>\n",
       "      <td>41.000000</td>\n",
       "      <td>41.000000</td>\n",
       "      <td>41.000000</td>\n",
       "    </tr>\n",
       "  </tbody>\n",
       "</table>\n",
       "</div>"
      ],
      "text/plain": [
       "       applicant_id  application_indicator  background_check_completed  \\\n",
       "count  14501.000000                14501.0                14501.000000   \n",
       "mean   20851.431556                    1.0                    0.652093   \n",
       "std     6262.755765                    0.0                    0.476323   \n",
       "min    10001.000000                    1.0                    0.000000   \n",
       "25%    15466.000000                    1.0                    0.000000   \n",
       "50%    20874.000000                    1.0                    1.000000   \n",
       "75%    26267.000000                    1.0                    1.000000   \n",
       "max    31698.000000                    1.0                    1.000000   \n",
       "\n",
       "       background_check_initiated  card_activated   card_mailed  \\\n",
       "count                14501.000000    14501.000000  14501.000000   \n",
       "mean                     0.747259        0.747259      0.983794   \n",
       "std                      0.434599        0.434599      0.126271   \n",
       "min                      0.000000        0.000000      0.000000   \n",
       "25%                      0.000000        0.000000      1.000000   \n",
       "50%                      1.000000        1.000000      1.000000   \n",
       "75%                      1.000000        1.000000      1.000000   \n",
       "max                      1.000000        1.000000      1.000000   \n",
       "\n",
       "       first_batch_completed  orientation_completed  card_mailed_days  \\\n",
       "count           14501.000000           14501.000000      14501.000000   \n",
       "mean                0.198124               0.412523          1.147093   \n",
       "std                 0.398600               0.492305          5.139121   \n",
       "min                 0.000000               0.000000          0.000000   \n",
       "25%                 0.000000               0.000000          0.000000   \n",
       "50%                 0.000000               0.000000          0.000000   \n",
       "75%                 0.000000               1.000000          1.000000   \n",
       "max                 1.000000               1.000000         41.000000   \n",
       "\n",
       "       orientation_completed_days  card_activation_days  \\\n",
       "count                14501.000000          14501.000000   \n",
       "mean                    25.230053             13.796221   \n",
       "std                     18.874340             15.945685   \n",
       "min                      0.000000              2.000000   \n",
       "25%                      3.000000              3.000000   \n",
       "50%                     41.000000              5.000000   \n",
       "75%                     41.000000             41.000000   \n",
       "max                     41.000000             41.000000   \n",
       "\n",
       "       background_check_initiated_days  background_check_completed_days  \\\n",
       "count                     14501.000000                     14501.000000   \n",
       "mean                         13.796221                        19.811875   \n",
       "std                          15.945685                        15.626098   \n",
       "min                           2.000000                         4.000000   \n",
       "25%                           3.000000                         7.000000   \n",
       "50%                           5.000000                        10.000000   \n",
       "75%                          41.000000                        41.000000   \n",
       "max                          41.000000                        41.000000   \n",
       "\n",
       "       first_batch_completed_days  background_check_days  \\\n",
       "count                14501.000000           14501.000000   \n",
       "mean                    34.858561              16.834977   \n",
       "std                     12.420969              17.686948   \n",
       "min                      4.000000               2.000000   \n",
       "25%                     41.000000               3.000000   \n",
       "50%                     41.000000               5.000000   \n",
       "75%                     41.000000              41.000000   \n",
       "max                     41.000000              41.000000   \n",
       "\n",
       "       bc_to_first_batch_days  \n",
       "count            14501.000000  \n",
       "mean                33.255224  \n",
       "std                 15.593028  \n",
       "min                  0.000000  \n",
       "25%                 41.000000  \n",
       "50%                 41.000000  \n",
       "75%                 41.000000  \n",
       "max                 41.000000  "
      ]
     },
     "execution_count": 15,
     "metadata": {},
     "output_type": "execute_result"
    }
   ],
   "source": [
    "data_c.describe()"
   ]
  },
  {
   "cell_type": "code",
   "execution_count": 16,
   "metadata": {},
   "outputs": [
    {
     "data": {
      "text/html": [
       "<div>\n",
       "<style scoped>\n",
       "    .dataframe tbody tr th:only-of-type {\n",
       "        vertical-align: middle;\n",
       "    }\n",
       "\n",
       "    .dataframe tbody tr th {\n",
       "        vertical-align: top;\n",
       "    }\n",
       "\n",
       "    .dataframe thead th {\n",
       "        text-align: right;\n",
       "    }\n",
       "</style>\n",
       "<table border=\"1\" class=\"dataframe\">\n",
       "  <thead>\n",
       "    <tr style=\"text-align: right;\">\n",
       "      <th></th>\n",
       "      <th>applicant_id</th>\n",
       "      <th>application_indicator</th>\n",
       "      <th>background_check_completed</th>\n",
       "      <th>background_check_initiated</th>\n",
       "      <th>card_activated</th>\n",
       "      <th>card_mailed</th>\n",
       "      <th>first_batch_completed</th>\n",
       "      <th>orientation_completed</th>\n",
       "      <th>card_mailed_days</th>\n",
       "      <th>orientation_completed_days</th>\n",
       "      <th>card_activation_days</th>\n",
       "      <th>background_check_initiated_days</th>\n",
       "      <th>background_check_completed_days</th>\n",
       "      <th>first_batch_completed_days</th>\n",
       "      <th>background_check_days</th>\n",
       "      <th>bc_to_first_batch_days</th>\n",
       "    </tr>\n",
       "  </thead>\n",
       "  <tbody>\n",
       "    <tr>\n",
       "      <th>count</th>\n",
       "      <td>7197.000000</td>\n",
       "      <td>7197.0</td>\n",
       "      <td>7197.000000</td>\n",
       "      <td>7197.0</td>\n",
       "      <td>7197.000000</td>\n",
       "      <td>7197.000000</td>\n",
       "      <td>7197.000000</td>\n",
       "      <td>7197.000000</td>\n",
       "      <td>7197.000000</td>\n",
       "      <td>7197.000000</td>\n",
       "      <td>7197.000000</td>\n",
       "      <td>7197.0</td>\n",
       "      <td>7197.000000</td>\n",
       "      <td>7197.000000</td>\n",
       "      <td>7197.000000</td>\n",
       "      <td>7197.000000</td>\n",
       "    </tr>\n",
       "    <tr>\n",
       "      <th>mean</th>\n",
       "      <td>20845.608170</td>\n",
       "      <td>1.0</td>\n",
       "      <td>0.887036</td>\n",
       "      <td>1.0</td>\n",
       "      <td>0.818258</td>\n",
       "      <td>0.982493</td>\n",
       "      <td>0.343338</td>\n",
       "      <td>0.468112</td>\n",
       "      <td>1.201473</td>\n",
       "      <td>23.494512</td>\n",
       "      <td>11.198416</td>\n",
       "      <td>0.0</td>\n",
       "      <td>8.107267</td>\n",
       "      <td>29.303043</td>\n",
       "      <td>8.107267</td>\n",
       "      <td>28.012783</td>\n",
       "    </tr>\n",
       "    <tr>\n",
       "      <th>std</th>\n",
       "      <td>6266.389334</td>\n",
       "      <td>0.0</td>\n",
       "      <td>0.316570</td>\n",
       "      <td>0.0</td>\n",
       "      <td>0.385659</td>\n",
       "      <td>0.131161</td>\n",
       "      <td>0.474856</td>\n",
       "      <td>0.499017</td>\n",
       "      <td>5.336090</td>\n",
       "      <td>18.730829</td>\n",
       "      <td>14.178626</td>\n",
       "      <td>0.0</td>\n",
       "      <td>11.811395</td>\n",
       "      <td>16.236775</td>\n",
       "      <td>11.811395</td>\n",
       "      <td>18.010276</td>\n",
       "    </tr>\n",
       "    <tr>\n",
       "      <th>min</th>\n",
       "      <td>10003.000000</td>\n",
       "      <td>1.0</td>\n",
       "      <td>0.000000</td>\n",
       "      <td>1.0</td>\n",
       "      <td>0.000000</td>\n",
       "      <td>0.000000</td>\n",
       "      <td>0.000000</td>\n",
       "      <td>0.000000</td>\n",
       "      <td>0.000000</td>\n",
       "      <td>0.000000</td>\n",
       "      <td>2.000000</td>\n",
       "      <td>0.0</td>\n",
       "      <td>2.000000</td>\n",
       "      <td>2.000000</td>\n",
       "      <td>2.000000</td>\n",
       "      <td>0.000000</td>\n",
       "    </tr>\n",
       "    <tr>\n",
       "      <th>25%</th>\n",
       "      <td>15329.000000</td>\n",
       "      <td>1.0</td>\n",
       "      <td>1.000000</td>\n",
       "      <td>1.0</td>\n",
       "      <td>1.000000</td>\n",
       "      <td>1.000000</td>\n",
       "      <td>0.000000</td>\n",
       "      <td>0.000000</td>\n",
       "      <td>0.000000</td>\n",
       "      <td>4.000000</td>\n",
       "      <td>3.000000</td>\n",
       "      <td>0.0</td>\n",
       "      <td>3.000000</td>\n",
       "      <td>8.000000</td>\n",
       "      <td>3.000000</td>\n",
       "      <td>4.000000</td>\n",
       "    </tr>\n",
       "    <tr>\n",
       "      <th>50%</th>\n",
       "      <td>20797.000000</td>\n",
       "      <td>1.0</td>\n",
       "      <td>1.000000</td>\n",
       "      <td>1.0</td>\n",
       "      <td>1.000000</td>\n",
       "      <td>1.000000</td>\n",
       "      <td>0.000000</td>\n",
       "      <td>0.000000</td>\n",
       "      <td>1.000000</td>\n",
       "      <td>41.000000</td>\n",
       "      <td>5.000000</td>\n",
       "      <td>0.0</td>\n",
       "      <td>4.000000</td>\n",
       "      <td>41.000000</td>\n",
       "      <td>4.000000</td>\n",
       "      <td>41.000000</td>\n",
       "    </tr>\n",
       "    <tr>\n",
       "      <th>75%</th>\n",
       "      <td>26289.000000</td>\n",
       "      <td>1.0</td>\n",
       "      <td>1.000000</td>\n",
       "      <td>1.0</td>\n",
       "      <td>1.000000</td>\n",
       "      <td>1.000000</td>\n",
       "      <td>1.000000</td>\n",
       "      <td>1.000000</td>\n",
       "      <td>1.000000</td>\n",
       "      <td>41.000000</td>\n",
       "      <td>8.000000</td>\n",
       "      <td>0.0</td>\n",
       "      <td>5.000000</td>\n",
       "      <td>41.000000</td>\n",
       "      <td>5.000000</td>\n",
       "      <td>41.000000</td>\n",
       "    </tr>\n",
       "    <tr>\n",
       "      <th>max</th>\n",
       "      <td>31691.000000</td>\n",
       "      <td>1.0</td>\n",
       "      <td>1.000000</td>\n",
       "      <td>1.0</td>\n",
       "      <td>1.000000</td>\n",
       "      <td>1.000000</td>\n",
       "      <td>1.000000</td>\n",
       "      <td>1.000000</td>\n",
       "      <td>41.000000</td>\n",
       "      <td>41.000000</td>\n",
       "      <td>41.000000</td>\n",
       "      <td>0.0</td>\n",
       "      <td>41.000000</td>\n",
       "      <td>41.000000</td>\n",
       "      <td>41.000000</td>\n",
       "      <td>41.000000</td>\n",
       "    </tr>\n",
       "  </tbody>\n",
       "</table>\n",
       "</div>"
      ],
      "text/plain": [
       "       applicant_id  application_indicator  background_check_completed  \\\n",
       "count   7197.000000                 7197.0                 7197.000000   \n",
       "mean   20845.608170                    1.0                    0.887036   \n",
       "std     6266.389334                    0.0                    0.316570   \n",
       "min    10003.000000                    1.0                    0.000000   \n",
       "25%    15329.000000                    1.0                    1.000000   \n",
       "50%    20797.000000                    1.0                    1.000000   \n",
       "75%    26289.000000                    1.0                    1.000000   \n",
       "max    31691.000000                    1.0                    1.000000   \n",
       "\n",
       "       background_check_initiated  card_activated  card_mailed  \\\n",
       "count                      7197.0     7197.000000  7197.000000   \n",
       "mean                          1.0        0.818258     0.982493   \n",
       "std                           0.0        0.385659     0.131161   \n",
       "min                           1.0        0.000000     0.000000   \n",
       "25%                           1.0        1.000000     1.000000   \n",
       "50%                           1.0        1.000000     1.000000   \n",
       "75%                           1.0        1.000000     1.000000   \n",
       "max                           1.0        1.000000     1.000000   \n",
       "\n",
       "       first_batch_completed  orientation_completed  card_mailed_days  \\\n",
       "count            7197.000000            7197.000000       7197.000000   \n",
       "mean                0.343338               0.468112          1.201473   \n",
       "std                 0.474856               0.499017          5.336090   \n",
       "min                 0.000000               0.000000          0.000000   \n",
       "25%                 0.000000               0.000000          0.000000   \n",
       "50%                 0.000000               0.000000          1.000000   \n",
       "75%                 1.000000               1.000000          1.000000   \n",
       "max                 1.000000               1.000000         41.000000   \n",
       "\n",
       "       orientation_completed_days  card_activation_days  \\\n",
       "count                 7197.000000           7197.000000   \n",
       "mean                    23.494512             11.198416   \n",
       "std                     18.730829             14.178626   \n",
       "min                      0.000000              2.000000   \n",
       "25%                      4.000000              3.000000   \n",
       "50%                     41.000000              5.000000   \n",
       "75%                     41.000000              8.000000   \n",
       "max                     41.000000             41.000000   \n",
       "\n",
       "       background_check_initiated_days  background_check_completed_days  \\\n",
       "count                           7197.0                      7197.000000   \n",
       "mean                               0.0                         8.107267   \n",
       "std                                0.0                        11.811395   \n",
       "min                                0.0                         2.000000   \n",
       "25%                                0.0                         3.000000   \n",
       "50%                                0.0                         4.000000   \n",
       "75%                                0.0                         5.000000   \n",
       "max                                0.0                        41.000000   \n",
       "\n",
       "       first_batch_completed_days  background_check_days  \\\n",
       "count                 7197.000000            7197.000000   \n",
       "mean                    29.303043               8.107267   \n",
       "std                     16.236775              11.811395   \n",
       "min                      2.000000               2.000000   \n",
       "25%                      8.000000               3.000000   \n",
       "50%                     41.000000               4.000000   \n",
       "75%                     41.000000               5.000000   \n",
       "max                     41.000000              41.000000   \n",
       "\n",
       "       bc_to_first_batch_days  \n",
       "count             7197.000000  \n",
       "mean                28.012783  \n",
       "std                 18.010276  \n",
       "min                  0.000000  \n",
       "25%                  4.000000  \n",
       "50%                 41.000000  \n",
       "75%                 41.000000  \n",
       "max                 41.000000  "
      ]
     },
     "execution_count": 16,
     "metadata": {},
     "output_type": "execute_result"
    }
   ],
   "source": [
    "data_t.describe()"
   ]
  },
  {
   "cell_type": "markdown",
   "metadata": {},
   "source": [
    "We noticed that the background_check_initiated_dates are the same as application_dates for treatment group. "
   ]
  },
  {
   "cell_type": "code",
   "execution_count": 39,
   "metadata": {},
   "outputs": [
    {
     "data": {
      "text/plain": [
       "<lifelines.KaplanMeierFitter:\"treatment\", fitted with 7197 total observations, 4726 right-censored observations>"
      ]
     },
     "execution_count": 39,
     "metadata": {},
     "output_type": "execute_result"
    }
   ],
   "source": [
    "# the 1st arg is a pd.Series of individual survival times\n",
    "# the 2nd arg is a pd.Series that indicates if the event occured.\n",
    "\n",
    "kmf_c.fit(durations = data_c['first_batch_completed_days'], \n",
    "          event_observed = data_c['first_batch_completed'], label = 'control')\n",
    "kmf_t.fit(durations = data_t['first_batch_completed_days'], \n",
    "          event_observed = data_t['first_batch_completed'], label = 'treatment')"
   ]
  },
  {
   "cell_type": "code",
   "execution_count": 69,
   "metadata": {},
   "outputs": [
    {
     "data": {
      "text/html": [
       "<div>\n",
       "<style scoped>\n",
       "    .dataframe tbody tr th:only-of-type {\n",
       "        vertical-align: middle;\n",
       "    }\n",
       "\n",
       "    .dataframe tbody tr th {\n",
       "        vertical-align: top;\n",
       "    }\n",
       "\n",
       "    .dataframe thead th {\n",
       "        text-align: right;\n",
       "    }\n",
       "</style>\n",
       "<table border=\"1\" class=\"dataframe\">\n",
       "  <thead>\n",
       "    <tr style=\"text-align: right;\">\n",
       "      <th></th>\n",
       "      <th>control</th>\n",
       "    </tr>\n",
       "    <tr>\n",
       "      <th>timeline</th>\n",
       "      <th></th>\n",
       "    </tr>\n",
       "  </thead>\n",
       "  <tbody>\n",
       "    <tr>\n",
       "      <th>0.0</th>\n",
       "      <td>0.000000</td>\n",
       "    </tr>\n",
       "    <tr>\n",
       "      <th>4.0</th>\n",
       "      <td>0.000552</td>\n",
       "    </tr>\n",
       "    <tr>\n",
       "      <th>5.0</th>\n",
       "      <td>0.004689</td>\n",
       "    </tr>\n",
       "    <tr>\n",
       "      <th>6.0</th>\n",
       "      <td>0.014964</td>\n",
       "    </tr>\n",
       "    <tr>\n",
       "      <th>7.0</th>\n",
       "      <td>0.035170</td>\n",
       "    </tr>\n",
       "    <tr>\n",
       "      <th>8.0</th>\n",
       "      <td>0.063927</td>\n",
       "    </tr>\n",
       "    <tr>\n",
       "      <th>9.0</th>\n",
       "      <td>0.094476</td>\n",
       "    </tr>\n",
       "    <tr>\n",
       "      <th>10.0</th>\n",
       "      <td>0.123371</td>\n",
       "    </tr>\n",
       "    <tr>\n",
       "      <th>11.0</th>\n",
       "      <td>0.146955</td>\n",
       "    </tr>\n",
       "    <tr>\n",
       "      <th>12.0</th>\n",
       "      <td>0.167919</td>\n",
       "    </tr>\n",
       "    <tr>\n",
       "      <th>13.0</th>\n",
       "      <td>0.178333</td>\n",
       "    </tr>\n",
       "    <tr>\n",
       "      <th>14.0</th>\n",
       "      <td>0.184608</td>\n",
       "    </tr>\n",
       "    <tr>\n",
       "      <th>15.0</th>\n",
       "      <td>0.189573</td>\n",
       "    </tr>\n",
       "    <tr>\n",
       "      <th>16.0</th>\n",
       "      <td>0.192607</td>\n",
       "    </tr>\n",
       "    <tr>\n",
       "      <th>17.0</th>\n",
       "      <td>0.194331</td>\n",
       "    </tr>\n",
       "    <tr>\n",
       "      <th>18.0</th>\n",
       "      <td>0.195366</td>\n",
       "    </tr>\n",
       "    <tr>\n",
       "      <th>19.0</th>\n",
       "      <td>0.196538</td>\n",
       "    </tr>\n",
       "    <tr>\n",
       "      <th>20.0</th>\n",
       "      <td>0.197159</td>\n",
       "    </tr>\n",
       "    <tr>\n",
       "      <th>21.0</th>\n",
       "      <td>0.197435</td>\n",
       "    </tr>\n",
       "    <tr>\n",
       "      <th>22.0</th>\n",
       "      <td>0.197779</td>\n",
       "    </tr>\n",
       "    <tr>\n",
       "      <th>23.0</th>\n",
       "      <td>0.197848</td>\n",
       "    </tr>\n",
       "    <tr>\n",
       "      <th>24.0</th>\n",
       "      <td>0.198055</td>\n",
       "    </tr>\n",
       "    <tr>\n",
       "      <th>28.0</th>\n",
       "      <td>0.198124</td>\n",
       "    </tr>\n",
       "    <tr>\n",
       "      <th>41.0</th>\n",
       "      <td>0.198124</td>\n",
       "    </tr>\n",
       "  </tbody>\n",
       "</table>\n",
       "</div>"
      ],
      "text/plain": [
       "           control\n",
       "timeline          \n",
       "0.0       0.000000\n",
       "4.0       0.000552\n",
       "5.0       0.004689\n",
       "6.0       0.014964\n",
       "7.0       0.035170\n",
       "8.0       0.063927\n",
       "9.0       0.094476\n",
       "10.0      0.123371\n",
       "11.0      0.146955\n",
       "12.0      0.167919\n",
       "13.0      0.178333\n",
       "14.0      0.184608\n",
       "15.0      0.189573\n",
       "16.0      0.192607\n",
       "17.0      0.194331\n",
       "18.0      0.195366\n",
       "19.0      0.196538\n",
       "20.0      0.197159\n",
       "21.0      0.197435\n",
       "22.0      0.197779\n",
       "23.0      0.197848\n",
       "24.0      0.198055\n",
       "28.0      0.198124\n",
       "41.0      0.198124"
      ]
     },
     "execution_count": 69,
     "metadata": {},
     "output_type": "execute_result"
    }
   ],
   "source": [
    "kmf_c.cumulative_density_"
   ]
  },
  {
   "cell_type": "code",
   "execution_count": 71,
   "metadata": {},
   "outputs": [
    {
     "data": {
      "text/html": [
       "<div>\n",
       "<style scoped>\n",
       "    .dataframe tbody tr th:only-of-type {\n",
       "        vertical-align: middle;\n",
       "    }\n",
       "\n",
       "    .dataframe tbody tr th {\n",
       "        vertical-align: top;\n",
       "    }\n",
       "\n",
       "    .dataframe thead th {\n",
       "        text-align: right;\n",
       "    }\n",
       "</style>\n",
       "<table border=\"1\" class=\"dataframe\">\n",
       "  <thead>\n",
       "    <tr style=\"text-align: right;\">\n",
       "      <th></th>\n",
       "      <th>treatment</th>\n",
       "    </tr>\n",
       "    <tr>\n",
       "      <th>timeline</th>\n",
       "      <th></th>\n",
       "    </tr>\n",
       "  </thead>\n",
       "  <tbody>\n",
       "    <tr>\n",
       "      <th>0.0</th>\n",
       "      <td>0.000000</td>\n",
       "    </tr>\n",
       "    <tr>\n",
       "      <th>2.0</th>\n",
       "      <td>0.000973</td>\n",
       "    </tr>\n",
       "    <tr>\n",
       "      <th>3.0</th>\n",
       "      <td>0.010977</td>\n",
       "    </tr>\n",
       "    <tr>\n",
       "      <th>4.0</th>\n",
       "      <td>0.043629</td>\n",
       "    </tr>\n",
       "    <tr>\n",
       "      <th>5.0</th>\n",
       "      <td>0.094623</td>\n",
       "    </tr>\n",
       "    <tr>\n",
       "      <th>6.0</th>\n",
       "      <td>0.163124</td>\n",
       "    </tr>\n",
       "    <tr>\n",
       "      <th>7.0</th>\n",
       "      <td>0.227317</td>\n",
       "    </tr>\n",
       "    <tr>\n",
       "      <th>8.0</th>\n",
       "      <td>0.271502</td>\n",
       "    </tr>\n",
       "    <tr>\n",
       "      <th>9.0</th>\n",
       "      <td>0.300403</td>\n",
       "    </tr>\n",
       "    <tr>\n",
       "      <th>10.0</th>\n",
       "      <td>0.319717</td>\n",
       "    </tr>\n",
       "    <tr>\n",
       "      <th>11.0</th>\n",
       "      <td>0.329582</td>\n",
       "    </tr>\n",
       "    <tr>\n",
       "      <th>12.0</th>\n",
       "      <td>0.335556</td>\n",
       "    </tr>\n",
       "    <tr>\n",
       "      <th>13.0</th>\n",
       "      <td>0.337919</td>\n",
       "    </tr>\n",
       "    <tr>\n",
       "      <th>14.0</th>\n",
       "      <td>0.341114</td>\n",
       "    </tr>\n",
       "    <tr>\n",
       "      <th>15.0</th>\n",
       "      <td>0.341670</td>\n",
       "    </tr>\n",
       "    <tr>\n",
       "      <th>16.0</th>\n",
       "      <td>0.342365</td>\n",
       "    </tr>\n",
       "    <tr>\n",
       "      <th>17.0</th>\n",
       "      <td>0.342504</td>\n",
       "    </tr>\n",
       "    <tr>\n",
       "      <th>18.0</th>\n",
       "      <td>0.342921</td>\n",
       "    </tr>\n",
       "    <tr>\n",
       "      <th>23.0</th>\n",
       "      <td>0.343060</td>\n",
       "    </tr>\n",
       "    <tr>\n",
       "      <th>25.0</th>\n",
       "      <td>0.343199</td>\n",
       "    </tr>\n",
       "    <tr>\n",
       "      <th>26.0</th>\n",
       "      <td>0.343338</td>\n",
       "    </tr>\n",
       "    <tr>\n",
       "      <th>41.0</th>\n",
       "      <td>0.343338</td>\n",
       "    </tr>\n",
       "  </tbody>\n",
       "</table>\n",
       "</div>"
      ],
      "text/plain": [
       "          treatment\n",
       "timeline           \n",
       "0.0        0.000000\n",
       "2.0        0.000973\n",
       "3.0        0.010977\n",
       "4.0        0.043629\n",
       "5.0        0.094623\n",
       "6.0        0.163124\n",
       "7.0        0.227317\n",
       "8.0        0.271502\n",
       "9.0        0.300403\n",
       "10.0       0.319717\n",
       "11.0       0.329582\n",
       "12.0       0.335556\n",
       "13.0       0.337919\n",
       "14.0       0.341114\n",
       "15.0       0.341670\n",
       "16.0       0.342365\n",
       "17.0       0.342504\n",
       "18.0       0.342921\n",
       "23.0       0.343060\n",
       "25.0       0.343199\n",
       "26.0       0.343338\n",
       "41.0       0.343338"
      ]
     },
     "execution_count": 71,
     "metadata": {},
     "output_type": "execute_result"
    }
   ],
   "source": [
    "kmf_t.cumulative_density_"
   ]
  },
  {
   "cell_type": "code",
   "execution_count": 40,
   "metadata": {},
   "outputs": [
    {
     "data": {
      "text/plain": [
       "0.19812426729191124"
      ]
     },
     "execution_count": 40,
     "metadata": {},
     "output_type": "execute_result"
    }
   ],
   "source": [
    "1 - kmf_c.predict(41)"
   ]
  },
  {
   "cell_type": "code",
   "execution_count": 41,
   "metadata": {},
   "outputs": [
    {
     "data": {
      "text/plain": [
       "0.14521323444492285"
      ]
     },
     "execution_count": 41,
     "metadata": {},
     "output_type": "execute_result"
    }
   ],
   "source": [
    "1 - kmf_t.predict(41) - (1 - kmf_c.predict(41))"
   ]
  },
  {
   "cell_type": "code",
   "execution_count": 20,
   "metadata": {},
   "outputs": [
    {
     "name": "stdout",
     "output_type": "stream",
     "text": [
      "final conversion rate log-rank test results:\n"
     ]
    },
    {
     "data": {
      "text/html": [
       "<div>\n",
       "<style scoped>\n",
       "    .dataframe tbody tr th:only-of-type {\n",
       "        vertical-align: middle;\n",
       "    }\n",
       "\n",
       "    .dataframe tbody tr th {\n",
       "        vertical-align: top;\n",
       "    }\n",
       "\n",
       "    .dataframe thead th {\n",
       "        text-align: right;\n",
       "    }\n",
       "</style>\n",
       "<table border=\"1\" class=\"dataframe\">\n",
       "  <tbody>\n",
       "    <tr>\n",
       "      <th>t_0</th>\n",
       "      <td>-1</td>\n",
       "    </tr>\n",
       "    <tr>\n",
       "      <th>null_distribution</th>\n",
       "      <td>chi squared</td>\n",
       "    </tr>\n",
       "    <tr>\n",
       "      <th>degrees_of_freedom</th>\n",
       "      <td>1</td>\n",
       "    </tr>\n",
       "    <tr>\n",
       "      <th>test_name</th>\n",
       "      <td>logrank_test</td>\n",
       "    </tr>\n",
       "  </tbody>\n",
       "</table>\n",
       "</div><table border=\"1\" class=\"dataframe\">\n",
       "  <thead>\n",
       "    <tr style=\"text-align: right;\">\n",
       "      <th></th>\n",
       "      <th>test_statistic</th>\n",
       "      <th>p</th>\n",
       "      <th>-log2(p)</th>\n",
       "    </tr>\n",
       "  </thead>\n",
       "  <tbody>\n",
       "    <tr>\n",
       "      <th>0</th>\n",
       "      <td>761.97</td>\n",
       "      <td>&lt;0.005</td>\n",
       "      <td>554.76</td>\n",
       "    </tr>\n",
       "  </tbody>\n",
       "</table>"
      ],
      "text/latex": [
       "\\begin{tabular}{lrrr}\n",
       "\\toprule\n",
       "{} &  test\\_statistic &              p &    -log2(p) \\\\\n",
       "\\midrule\n",
       "0 &        761.9675 &  1.002913e-167 &  554.757795 \\\\\n",
       "\\bottomrule\n",
       "\\end{tabular}\n"
      ],
      "text/plain": [
       "<lifelines.StatisticalResult: logrank_test>\n",
       "               t_0 = -1\n",
       " null_distribution = chi squared\n",
       "degrees_of_freedom = 1\n",
       "         test_name = logrank_test\n",
       "\n",
       "---\n",
       " test_statistic      p  -log2(p)\n",
       "         761.97 <0.005    554.76"
      ]
     },
     "metadata": {},
     "output_type": "display_data"
    },
    {
     "data": {
      "text/plain": [
       "Text(0.5, 1.0, 'total shopper conversion')"
      ]
     },
     "execution_count": 20,
     "metadata": {},
     "output_type": "execute_result"
    },
    {
     "data": {
      "image/png": "[encoded data removed]",
      "text/plain": [
       "<Figure size 504x288 with 1 Axes>"
      ]
     },
     "metadata": {
      "needs_background": "light"
     },
     "output_type": "display_data"
    }
   ],
   "source": [
    "time_c = data_c['first_batch_completed_days']\n",
    "time_t = data_t['first_batch_completed_days']\n",
    "    \n",
    "end_c = data_c['first_batch_completed']\n",
    "end_t = data_t['first_batch_completed']\n",
    "    \n",
    "results = logrank_test(time_c, time_t, event_observed_A = end_c, event_observed_B = end_t)\n",
    "print('final conversion rate log-rank test results:')\n",
    "results.print_summary()\n",
    "\n",
    "plt.figure(figsize=(7, 4))\n",
    "\n",
    "kmf_c.plot_cumulative_density()\n",
    "kmf_t.plot_cumulative_density()\n",
    "\n",
    "plt.xlabel(\"Days passed\")\n",
    "plt.ylabel(\"Cumulative density\")\n",
    "plt.title('total shopper conversion')"
   ]
  },
  {
   "cell_type": "markdown",
   "metadata": {},
   "source": [
    "Notice that, as the number of survival days increases, the probability of a person dying increases."
   ]
  },
  {
   "cell_type": "code",
   "execution_count": 21,
   "metadata": {},
   "outputs": [
    {
     "name": "stdout",
     "output_type": "stream",
     "text": [
      "final conversion rate log-rank test for job-search-site:\n"
     ]
    },
    {
     "data": {
      "text/html": [
       "<div>\n",
       "<style scoped>\n",
       "    .dataframe tbody tr th:only-of-type {\n",
       "        vertical-align: middle;\n",
       "    }\n",
       "\n",
       "    .dataframe tbody tr th {\n",
       "        vertical-align: top;\n",
       "    }\n",
       "\n",
       "    .dataframe thead th {\n",
       "        text-align: right;\n",
       "    }\n",
       "</style>\n",
       "<table border=\"1\" class=\"dataframe\">\n",
       "  <tbody>\n",
       "    <tr>\n",
       "      <th>t_0</th>\n",
       "      <td>-1</td>\n",
       "    </tr>\n",
       "    <tr>\n",
       "      <th>null_distribution</th>\n",
       "      <td>chi squared</td>\n",
       "    </tr>\n",
       "    <tr>\n",
       "      <th>degrees_of_freedom</th>\n",
       "      <td>1</td>\n",
       "    </tr>\n",
       "    <tr>\n",
       "      <th>test_name</th>\n",
       "      <td>logrank_test</td>\n",
       "    </tr>\n",
       "  </tbody>\n",
       "</table>\n",
       "</div><table border=\"1\" class=\"dataframe\">\n",
       "  <thead>\n",
       "    <tr style=\"text-align: right;\">\n",
       "      <th></th>\n",
       "      <th>test_statistic</th>\n",
       "      <th>p</th>\n",
       "      <th>-log2(p)</th>\n",
       "    </tr>\n",
       "  </thead>\n",
       "  <tbody>\n",
       "    <tr>\n",
       "      <th>0</th>\n",
       "      <td>257.05</td>\n",
       "      <td>&lt;0.005</td>\n",
       "      <td>189.75</td>\n",
       "    </tr>\n",
       "  </tbody>\n",
       "</table>"
      ],
      "text/latex": [
       "\\begin{tabular}{lrrr}\n",
       "\\toprule\n",
       "{} &  test\\_statistic &             p &    -log2(p) \\\\\n",
       "\\midrule\n",
       "0 &      257.045743 &  7.559404e-58 &  189.753557 \\\\\n",
       "\\bottomrule\n",
       "\\end{tabular}\n"
      ],
      "text/plain": [
       "<lifelines.StatisticalResult: logrank_test>\n",
       "               t_0 = -1\n",
       " null_distribution = chi squared\n",
       "degrees_of_freedom = 1\n",
       "         test_name = logrank_test\n",
       "\n",
       "---\n",
       " test_statistic      p  -log2(p)\n",
       "         257.05 <0.005    189.75"
      ]
     },
     "metadata": {},
     "output_type": "display_data"
    },
    {
     "name": "stdout",
     "output_type": "stream",
     "text": [
      "final conversion rate log-rank test for shopper-referral-bonus:\n"
     ]
    },
    {
     "data": {
      "text/html": [
       "<div>\n",
       "<style scoped>\n",
       "    .dataframe tbody tr th:only-of-type {\n",
       "        vertical-align: middle;\n",
       "    }\n",
       "\n",
       "    .dataframe tbody tr th {\n",
       "        vertical-align: top;\n",
       "    }\n",
       "\n",
       "    .dataframe thead th {\n",
       "        text-align: right;\n",
       "    }\n",
       "</style>\n",
       "<table border=\"1\" class=\"dataframe\">\n",
       "  <tbody>\n",
       "    <tr>\n",
       "      <th>t_0</th>\n",
       "      <td>-1</td>\n",
       "    </tr>\n",
       "    <tr>\n",
       "      <th>null_distribution</th>\n",
       "      <td>chi squared</td>\n",
       "    </tr>\n",
       "    <tr>\n",
       "      <th>degrees_of_freedom</th>\n",
       "      <td>1</td>\n",
       "    </tr>\n",
       "    <tr>\n",
       "      <th>test_name</th>\n",
       "      <td>logrank_test</td>\n",
       "    </tr>\n",
       "  </tbody>\n",
       "</table>\n",
       "</div><table border=\"1\" class=\"dataframe\">\n",
       "  <thead>\n",
       "    <tr style=\"text-align: right;\">\n",
       "      <th></th>\n",
       "      <th>test_statistic</th>\n",
       "      <th>p</th>\n",
       "      <th>-log2(p)</th>\n",
       "    </tr>\n",
       "  </thead>\n",
       "  <tbody>\n",
       "    <tr>\n",
       "      <th>0</th>\n",
       "      <td>131.00</td>\n",
       "      <td>&lt;0.005</td>\n",
       "      <td>98.35</td>\n",
       "    </tr>\n",
       "  </tbody>\n",
       "</table>"
      ],
      "text/latex": [
       "\\begin{tabular}{lrrr}\n",
       "\\toprule\n",
       "{} &  test\\_statistic &             p &   -log2(p) \\\\\n",
       "\\midrule\n",
       "0 &      130.997212 &  2.479542e-30 &  98.347769 \\\\\n",
       "\\bottomrule\n",
       "\\end{tabular}\n"
      ],
      "text/plain": [
       "<lifelines.StatisticalResult: logrank_test>\n",
       "               t_0 = -1\n",
       " null_distribution = chi squared\n",
       "degrees_of_freedom = 1\n",
       "         test_name = logrank_test\n",
       "\n",
       "---\n",
       " test_statistic      p  -log2(p)\n",
       "         131.00 <0.005     98.35"
      ]
     },
     "metadata": {},
     "output_type": "display_data"
    },
    {
     "name": "stdout",
     "output_type": "stream",
     "text": [
      "final conversion rate log-rank test for social-media:\n"
     ]
    },
    {
     "data": {
      "text/html": [
       "<div>\n",
       "<style scoped>\n",
       "    .dataframe tbody tr th:only-of-type {\n",
       "        vertical-align: middle;\n",
       "    }\n",
       "\n",
       "    .dataframe tbody tr th {\n",
       "        vertical-align: top;\n",
       "    }\n",
       "\n",
       "    .dataframe thead th {\n",
       "        text-align: right;\n",
       "    }\n",
       "</style>\n",
       "<table border=\"1\" class=\"dataframe\">\n",
       "  <tbody>\n",
       "    <tr>\n",
       "      <th>t_0</th>\n",
       "      <td>-1</td>\n",
       "    </tr>\n",
       "    <tr>\n",
       "      <th>null_distribution</th>\n",
       "      <td>chi squared</td>\n",
       "    </tr>\n",
       "    <tr>\n",
       "      <th>degrees_of_freedom</th>\n",
       "      <td>1</td>\n",
       "    </tr>\n",
       "    <tr>\n",
       "      <th>test_name</th>\n",
       "      <td>logrank_test</td>\n",
       "    </tr>\n",
       "  </tbody>\n",
       "</table>\n",
       "</div><table border=\"1\" class=\"dataframe\">\n",
       "  <thead>\n",
       "    <tr style=\"text-align: right;\">\n",
       "      <th></th>\n",
       "      <th>test_statistic</th>\n",
       "      <th>p</th>\n",
       "      <th>-log2(p)</th>\n",
       "    </tr>\n",
       "  </thead>\n",
       "  <tbody>\n",
       "    <tr>\n",
       "      <th>0</th>\n",
       "      <td>67.98</td>\n",
       "      <td>&lt;0.005</td>\n",
       "      <td>52.43</td>\n",
       "    </tr>\n",
       "  </tbody>\n",
       "</table>"
      ],
      "text/latex": [
       "\\begin{tabular}{lrrr}\n",
       "\\toprule\n",
       "{} &  test\\_statistic &             p &   -log2(p) \\\\\n",
       "\\midrule\n",
       "0 &       67.980562 &  1.651152e-16 &  52.427376 \\\\\n",
       "\\bottomrule\n",
       "\\end{tabular}\n"
      ],
      "text/plain": [
       "<lifelines.StatisticalResult: logrank_test>\n",
       "               t_0 = -1\n",
       " null_distribution = chi squared\n",
       "degrees_of_freedom = 1\n",
       "         test_name = logrank_test\n",
       "\n",
       "---\n",
       " test_statistic      p  -log2(p)\n",
       "          67.98 <0.005     52.43"
      ]
     },
     "metadata": {},
     "output_type": "display_data"
    },
    {
     "name": "stdout",
     "output_type": "stream",
     "text": [
      "final conversion rate log-rank test for web-search-engine:\n"
     ]
    },
    {
     "data": {
      "text/html": [
       "<div>\n",
       "<style scoped>\n",
       "    .dataframe tbody tr th:only-of-type {\n",
       "        vertical-align: middle;\n",
       "    }\n",
       "\n",
       "    .dataframe tbody tr th {\n",
       "        vertical-align: top;\n",
       "    }\n",
       "\n",
       "    .dataframe thead th {\n",
       "        text-align: right;\n",
       "    }\n",
       "</style>\n",
       "<table border=\"1\" class=\"dataframe\">\n",
       "  <tbody>\n",
       "    <tr>\n",
       "      <th>t_0</th>\n",
       "      <td>-1</td>\n",
       "    </tr>\n",
       "    <tr>\n",
       "      <th>null_distribution</th>\n",
       "      <td>chi squared</td>\n",
       "    </tr>\n",
       "    <tr>\n",
       "      <th>degrees_of_freedom</th>\n",
       "      <td>1</td>\n",
       "    </tr>\n",
       "    <tr>\n",
       "      <th>test_name</th>\n",
       "      <td>logrank_test</td>\n",
       "    </tr>\n",
       "  </tbody>\n",
       "</table>\n",
       "</div><table border=\"1\" class=\"dataframe\">\n",
       "  <thead>\n",
       "    <tr style=\"text-align: right;\">\n",
       "      <th></th>\n",
       "      <th>test_statistic</th>\n",
       "      <th>p</th>\n",
       "      <th>-log2(p)</th>\n",
       "    </tr>\n",
       "  </thead>\n",
       "  <tbody>\n",
       "    <tr>\n",
       "      <th>0</th>\n",
       "      <td>389.11</td>\n",
       "      <td>&lt;0.005</td>\n",
       "      <td>285.31</td>\n",
       "    </tr>\n",
       "  </tbody>\n",
       "</table>"
      ],
      "text/latex": [
       "\\begin{tabular}{lrrr}\n",
       "\\toprule\n",
       "{} &  test\\_statistic &             p &    -log2(p) \\\\\n",
       "\\midrule\n",
       "0 &      389.105917 &  1.295748e-86 &  285.312031 \\\\\n",
       "\\bottomrule\n",
       "\\end{tabular}\n"
      ],
      "text/plain": [
       "<lifelines.StatisticalResult: logrank_test>\n",
       "               t_0 = -1\n",
       " null_distribution = chi squared\n",
       "degrees_of_freedom = 1\n",
       "         test_name = logrank_test\n",
       "\n",
       "---\n",
       " test_statistic      p  -log2(p)\n",
       "         389.11 <0.005    285.31"
      ]
     },
     "metadata": {},
     "output_type": "display_data"
    },
    {
     "data": {
      "image/png": "[encoded data removed]",
      "text/plain": [
       "<Figure size 504x288 with 1 Axes>"
      ]
     },
     "metadata": {
      "needs_background": "light"
     },
     "output_type": "display_data"
    },
    {
     "data": {
      "image/png": "[encoded data removed]",
      "text/plain": [
       "<Figure size 504x288 with 1 Axes>"
      ]
     },
     "metadata": {
      "needs_background": "light"
     },
     "output_type": "display_data"
    },
    {
     "data": {
      "image/png": "[encoded data removed]",
      "text/plain": [
       "<Figure size 504x288 with 1 Axes>"
      ]
     },
     "metadata": {
      "needs_background": "light"
     },
     "output_type": "display_data"
    },
    {
     "data": {
      "image/png": "[encoded data removed]",
      "text/plain": [
       "<Figure size 504x288 with 1 Axes>"
      ]
     },
     "metadata": {
      "needs_background": "light"
     },
     "output_type": "display_data"
    }
   ],
   "source": [
    "channels = ['job-search-site', 'shopper-referral-bonus', 'social-media', 'web-search-engine']\n",
    "\n",
    "for channel in channels:\n",
    "    kmf_c_c = KaplanMeierFitter()\n",
    "    kmf_t_c = KaplanMeierFitter()\n",
    "\n",
    "    # devide data into two groups\n",
    "    data_c_c = data_trans.loc[(data_trans['group'] == \"control\") & (data_trans['channel'] == channel)]\n",
    "    data_t_c = data_trans.loc[(data_trans['group'] == 'treatment') & (data_trans['channel'] == channel)]\n",
    "\n",
    "    # the 1st arg is a pd.Series of individual survival times\n",
    "    # the 2nd arg is a pd.Series that indicates if the event occured.\n",
    "    kmf_c_c.fit(durations = data_c_c['first_batch_completed_days'], \n",
    "          event_observed = data_c_c['first_batch_completed'], label = 'control')\n",
    "    kmf_t_c.fit(durations = data_t_c['first_batch_completed_days'], \n",
    "          event_observed = data_t_c['first_batch_completed'], label = 'treatment')\n",
    "\n",
    "    plt.figure(figsize=(7, 4))\n",
    "\n",
    "    kmf_c_c.plot_cumulative_density()\n",
    "    kmf_t_c.plot_cumulative_density()\n",
    "\n",
    "    plt.xlabel(\"Days passed\")\n",
    "    plt.ylabel(\"Cumulative density\")\n",
    "    plt.title('total shopper conversion for ' + channel)\n",
    "    \n",
    "    time_c_c = data_c_c['first_batch_completed_days']\n",
    "    time_t_c = data_t_c['first_batch_completed_days']\n",
    "    \n",
    "    end_c_c = data_c_c['first_batch_completed']\n",
    "    end_t_c = data_t_c['first_batch_completed']\n",
    "    \n",
    "    results = logrank_test(time_c_c, time_t_c, event_observed_A = end_c_c, event_observed_B = end_t_c)\n",
    "    print('final conversion rate log-rank test for {}:'.format(channel))\n",
    "    results.print_summary()"
   ]
  },
  {
   "cell_type": "code",
   "execution_count": 22,
   "metadata": {},
   "outputs": [
    {
     "data": {
      "text/plain": [
       "group      city        \n",
       "control    Alfheim         1253\n",
       "           Asgard          4601\n",
       "           Helheim          103\n",
       "           Jotunheim        203\n",
       "           Midgard         6657\n",
       "           Muspelheim        98\n",
       "           Niflheim         519\n",
       "           Svartalfheim      88\n",
       "           Vanaheim         979\n",
       "treatment  Alfheim          612\n",
       "           Asgard          2306\n",
       "           Helheim           55\n",
       "           Jotunheim        103\n",
       "           Midgard         3286\n",
       "           Muspelheim        58\n",
       "           Niflheim         295\n",
       "           Svartalfheim      47\n",
       "           Vanaheim         435\n",
       "Name: city, dtype: int64"
      ]
     },
     "execution_count": 22,
     "metadata": {},
     "output_type": "execute_result"
    }
   ],
   "source": [
    "data_trans.groupby(['group','city'])['city'].count()"
   ]
  },
  {
   "cell_type": "code",
   "execution_count": 23,
   "metadata": {},
   "outputs": [
    {
     "name": "stdout",
     "output_type": "stream",
     "text": [
      "final conversion rate log-rank test for Alfheim:\n"
     ]
    },
    {
     "data": {
      "text/html": [
       "<div>\n",
       "<style scoped>\n",
       "    .dataframe tbody tr th:only-of-type {\n",
       "        vertical-align: middle;\n",
       "    }\n",
       "\n",
       "    .dataframe tbody tr th {\n",
       "        vertical-align: top;\n",
       "    }\n",
       "\n",
       "    .dataframe thead th {\n",
       "        text-align: right;\n",
       "    }\n",
       "</style>\n",
       "<table border=\"1\" class=\"dataframe\">\n",
       "  <tbody>\n",
       "    <tr>\n",
       "      <th>t_0</th>\n",
       "      <td>-1</td>\n",
       "    </tr>\n",
       "    <tr>\n",
       "      <th>null_distribution</th>\n",
       "      <td>chi squared</td>\n",
       "    </tr>\n",
       "    <tr>\n",
       "      <th>degrees_of_freedom</th>\n",
       "      <td>1</td>\n",
       "    </tr>\n",
       "    <tr>\n",
       "      <th>test_name</th>\n",
       "      <td>logrank_test</td>\n",
       "    </tr>\n",
       "  </tbody>\n",
       "</table>\n",
       "</div><table border=\"1\" class=\"dataframe\">\n",
       "  <thead>\n",
       "    <tr style=\"text-align: right;\">\n",
       "      <th></th>\n",
       "      <th>test_statistic</th>\n",
       "      <th>p</th>\n",
       "      <th>-log2(p)</th>\n",
       "    </tr>\n",
       "  </thead>\n",
       "  <tbody>\n",
       "    <tr>\n",
       "      <th>0</th>\n",
       "      <td>47.42</td>\n",
       "      <td>&lt;0.005</td>\n",
       "      <td>37.34</td>\n",
       "    </tr>\n",
       "  </tbody>\n",
       "</table>"
      ],
      "text/latex": [
       "\\begin{tabular}{lrrr}\n",
       "\\toprule\n",
       "{} &  test\\_statistic &             p &   -log2(p) \\\\\n",
       "\\midrule\n",
       "0 &       47.416212 &  5.740595e-12 &  37.341937 \\\\\n",
       "\\bottomrule\n",
       "\\end{tabular}\n"
      ],
      "text/plain": [
       "<lifelines.StatisticalResult: logrank_test>\n",
       "               t_0 = -1\n",
       " null_distribution = chi squared\n",
       "degrees_of_freedom = 1\n",
       "         test_name = logrank_test\n",
       "\n",
       "---\n",
       " test_statistic      p  -log2(p)\n",
       "          47.42 <0.005     37.34"
      ]
     },
     "metadata": {},
     "output_type": "display_data"
    },
    {
     "name": "stdout",
     "output_type": "stream",
     "text": [
      "final conversion rate log-rank test for Asgard:\n"
     ]
    },
    {
     "data": {
      "text/html": [
       "<div>\n",
       "<style scoped>\n",
       "    .dataframe tbody tr th:only-of-type {\n",
       "        vertical-align: middle;\n",
       "    }\n",
       "\n",
       "    .dataframe tbody tr th {\n",
       "        vertical-align: top;\n",
       "    }\n",
       "\n",
       "    .dataframe thead th {\n",
       "        text-align: right;\n",
       "    }\n",
       "</style>\n",
       "<table border=\"1\" class=\"dataframe\">\n",
       "  <tbody>\n",
       "    <tr>\n",
       "      <th>t_0</th>\n",
       "      <td>-1</td>\n",
       "    </tr>\n",
       "    <tr>\n",
       "      <th>null_distribution</th>\n",
       "      <td>chi squared</td>\n",
       "    </tr>\n",
       "    <tr>\n",
       "      <th>degrees_of_freedom</th>\n",
       "      <td>1</td>\n",
       "    </tr>\n",
       "    <tr>\n",
       "      <th>test_name</th>\n",
       "      <td>logrank_test</td>\n",
       "    </tr>\n",
       "  </tbody>\n",
       "</table>\n",
       "</div><table border=\"1\" class=\"dataframe\">\n",
       "  <thead>\n",
       "    <tr style=\"text-align: right;\">\n",
       "      <th></th>\n",
       "      <th>test_statistic</th>\n",
       "      <th>p</th>\n",
       "      <th>-log2(p)</th>\n",
       "    </tr>\n",
       "  </thead>\n",
       "  <tbody>\n",
       "    <tr>\n",
       "      <th>0</th>\n",
       "      <td>255.55</td>\n",
       "      <td>&lt;0.005</td>\n",
       "      <td>188.67</td>\n",
       "    </tr>\n",
       "  </tbody>\n",
       "</table>"
      ],
      "text/latex": [
       "\\begin{tabular}{lrrr}\n",
       "\\toprule\n",
       "{} &  test\\_statistic &             p &   -log2(p) \\\\\n",
       "\\midrule\n",
       "0 &      255.547516 &  1.603552e-57 &  188.66863 \\\\\n",
       "\\bottomrule\n",
       "\\end{tabular}\n"
      ],
      "text/plain": [
       "<lifelines.StatisticalResult: logrank_test>\n",
       "               t_0 = -1\n",
       " null_distribution = chi squared\n",
       "degrees_of_freedom = 1\n",
       "         test_name = logrank_test\n",
       "\n",
       "---\n",
       " test_statistic      p  -log2(p)\n",
       "         255.55 <0.005    188.67"
      ]
     },
     "metadata": {},
     "output_type": "display_data"
    },
    {
     "name": "stdout",
     "output_type": "stream",
     "text": [
      "final conversion rate log-rank test for Helheim:\n"
     ]
    },
    {
     "data": {
      "text/html": [
       "<div>\n",
       "<style scoped>\n",
       "    .dataframe tbody tr th:only-of-type {\n",
       "        vertical-align: middle;\n",
       "    }\n",
       "\n",
       "    .dataframe tbody tr th {\n",
       "        vertical-align: top;\n",
       "    }\n",
       "\n",
       "    .dataframe thead th {\n",
       "        text-align: right;\n",
       "    }\n",
       "</style>\n",
       "<table border=\"1\" class=\"dataframe\">\n",
       "  <tbody>\n",
       "    <tr>\n",
       "      <th>t_0</th>\n",
       "      <td>-1</td>\n",
       "    </tr>\n",
       "    <tr>\n",
       "      <th>null_distribution</th>\n",
       "      <td>chi squared</td>\n",
       "    </tr>\n",
       "    <tr>\n",
       "      <th>degrees_of_freedom</th>\n",
       "      <td>1</td>\n",
       "    </tr>\n",
       "    <tr>\n",
       "      <th>test_name</th>\n",
       "      <td>logrank_test</td>\n",
       "    </tr>\n",
       "  </tbody>\n",
       "</table>\n",
       "</div><table border=\"1\" class=\"dataframe\">\n",
       "  <thead>\n",
       "    <tr style=\"text-align: right;\">\n",
       "      <th></th>\n",
       "      <th>test_statistic</th>\n",
       "      <th>p</th>\n",
       "      <th>-log2(p)</th>\n",
       "    </tr>\n",
       "  </thead>\n",
       "  <tbody>\n",
       "    <tr>\n",
       "      <th>0</th>\n",
       "      <td>1.38</td>\n",
       "      <td>0.24</td>\n",
       "      <td>2.06</td>\n",
       "    </tr>\n",
       "  </tbody>\n",
       "</table>"
      ],
      "text/latex": [
       "\\begin{tabular}{lrrr}\n",
       "\\toprule\n",
       "{} &  test\\_statistic &         p &  -log2(p) \\\\\n",
       "\\midrule\n",
       "0 &         1.38299 &  0.239592 &  2.061345 \\\\\n",
       "\\bottomrule\n",
       "\\end{tabular}\n"
      ],
      "text/plain": [
       "<lifelines.StatisticalResult: logrank_test>\n",
       "               t_0 = -1\n",
       " null_distribution = chi squared\n",
       "degrees_of_freedom = 1\n",
       "         test_name = logrank_test\n",
       "\n",
       "---\n",
       " test_statistic    p  -log2(p)\n",
       "           1.38 0.24      2.06"
      ]
     },
     "metadata": {},
     "output_type": "display_data"
    },
    {
     "name": "stdout",
     "output_type": "stream",
     "text": [
      "final conversion rate log-rank test for Jotunheim:\n"
     ]
    },
    {
     "data": {
      "text/html": [
       "<div>\n",
       "<style scoped>\n",
       "    .dataframe tbody tr th:only-of-type {\n",
       "        vertical-align: middle;\n",
       "    }\n",
       "\n",
       "    .dataframe tbody tr th {\n",
       "        vertical-align: top;\n",
       "    }\n",
       "\n",
       "    .dataframe thead th {\n",
       "        text-align: right;\n",
       "    }\n",
       "</style>\n",
       "<table border=\"1\" class=\"dataframe\">\n",
       "  <tbody>\n",
       "    <tr>\n",
       "      <th>t_0</th>\n",
       "      <td>-1</td>\n",
       "    </tr>\n",
       "    <tr>\n",
       "      <th>null_distribution</th>\n",
       "      <td>chi squared</td>\n",
       "    </tr>\n",
       "    <tr>\n",
       "      <th>degrees_of_freedom</th>\n",
       "      <td>1</td>\n",
       "    </tr>\n",
       "    <tr>\n",
       "      <th>test_name</th>\n",
       "      <td>logrank_test</td>\n",
       "    </tr>\n",
       "  </tbody>\n",
       "</table>\n",
       "</div><table border=\"1\" class=\"dataframe\">\n",
       "  <thead>\n",
       "    <tr style=\"text-align: right;\">\n",
       "      <th></th>\n",
       "      <th>test_statistic</th>\n",
       "      <th>p</th>\n",
       "      <th>-log2(p)</th>\n",
       "    </tr>\n",
       "  </thead>\n",
       "  <tbody>\n",
       "    <tr>\n",
       "      <th>0</th>\n",
       "      <td>8.62</td>\n",
       "      <td>&lt;0.005</td>\n",
       "      <td>8.23</td>\n",
       "    </tr>\n",
       "  </tbody>\n",
       "</table>"
      ],
      "text/latex": [
       "\\begin{tabular}{lrrr}\n",
       "\\toprule\n",
       "{} &  test\\_statistic &        p &  -log2(p) \\\\\n",
       "\\midrule\n",
       "0 &        8.617007 &  0.00333 &  8.230095 \\\\\n",
       "\\bottomrule\n",
       "\\end{tabular}\n"
      ],
      "text/plain": [
       "<lifelines.StatisticalResult: logrank_test>\n",
       "               t_0 = -1\n",
       " null_distribution = chi squared\n",
       "degrees_of_freedom = 1\n",
       "         test_name = logrank_test\n",
       "\n",
       "---\n",
       " test_statistic      p  -log2(p)\n",
       "           8.62 <0.005      8.23"
      ]
     },
     "metadata": {},
     "output_type": "display_data"
    },
    {
     "name": "stdout",
     "output_type": "stream",
     "text": [
      "final conversion rate log-rank test for Midgard:\n"
     ]
    },
    {
     "data": {
      "text/html": [
       "<div>\n",
       "<style scoped>\n",
       "    .dataframe tbody tr th:only-of-type {\n",
       "        vertical-align: middle;\n",
       "    }\n",
       "\n",
       "    .dataframe tbody tr th {\n",
       "        vertical-align: top;\n",
       "    }\n",
       "\n",
       "    .dataframe thead th {\n",
       "        text-align: right;\n",
       "    }\n",
       "</style>\n",
       "<table border=\"1\" class=\"dataframe\">\n",
       "  <tbody>\n",
       "    <tr>\n",
       "      <th>t_0</th>\n",
       "      <td>-1</td>\n",
       "    </tr>\n",
       "    <tr>\n",
       "      <th>null_distribution</th>\n",
       "      <td>chi squared</td>\n",
       "    </tr>\n",
       "    <tr>\n",
       "      <th>degrees_of_freedom</th>\n",
       "      <td>1</td>\n",
       "    </tr>\n",
       "    <tr>\n",
       "      <th>test_name</th>\n",
       "      <td>logrank_test</td>\n",
       "    </tr>\n",
       "  </tbody>\n",
       "</table>\n",
       "</div><table border=\"1\" class=\"dataframe\">\n",
       "  <thead>\n",
       "    <tr style=\"text-align: right;\">\n",
       "      <th></th>\n",
       "      <th>test_statistic</th>\n",
       "      <th>p</th>\n",
       "      <th>-log2(p)</th>\n",
       "    </tr>\n",
       "  </thead>\n",
       "  <tbody>\n",
       "    <tr>\n",
       "      <th>0</th>\n",
       "      <td>356.23</td>\n",
       "      <td>&lt;0.005</td>\n",
       "      <td>261.53</td>\n",
       "    </tr>\n",
       "  </tbody>\n",
       "</table>"
      ],
      "text/latex": [
       "\\begin{tabular}{lrrr}\n",
       "\\toprule\n",
       "{} &  test\\_statistic &             p &    -log2(p) \\\\\n",
       "\\midrule\n",
       "0 &      356.228896 &  1.865275e-79 &  261.532931 \\\\\n",
       "\\bottomrule\n",
       "\\end{tabular}\n"
      ],
      "text/plain": [
       "<lifelines.StatisticalResult: logrank_test>\n",
       "               t_0 = -1\n",
       " null_distribution = chi squared\n",
       "degrees_of_freedom = 1\n",
       "         test_name = logrank_test\n",
       "\n",
       "---\n",
       " test_statistic      p  -log2(p)\n",
       "         356.23 <0.005    261.53"
      ]
     },
     "metadata": {},
     "output_type": "display_data"
    },
    {
     "name": "stdout",
     "output_type": "stream",
     "text": [
      "final conversion rate log-rank test for Muspelheim:\n"
     ]
    },
    {
     "data": {
      "text/html": [
       "<div>\n",
       "<style scoped>\n",
       "    .dataframe tbody tr th:only-of-type {\n",
       "        vertical-align: middle;\n",
       "    }\n",
       "\n",
       "    .dataframe tbody tr th {\n",
       "        vertical-align: top;\n",
       "    }\n",
       "\n",
       "    .dataframe thead th {\n",
       "        text-align: right;\n",
       "    }\n",
       "</style>\n",
       "<table border=\"1\" class=\"dataframe\">\n",
       "  <tbody>\n",
       "    <tr>\n",
       "      <th>t_0</th>\n",
       "      <td>-1</td>\n",
       "    </tr>\n",
       "    <tr>\n",
       "      <th>null_distribution</th>\n",
       "      <td>chi squared</td>\n",
       "    </tr>\n",
       "    <tr>\n",
       "      <th>degrees_of_freedom</th>\n",
       "      <td>1</td>\n",
       "    </tr>\n",
       "    <tr>\n",
       "      <th>test_name</th>\n",
       "      <td>logrank_test</td>\n",
       "    </tr>\n",
       "  </tbody>\n",
       "</table>\n",
       "</div><table border=\"1\" class=\"dataframe\">\n",
       "  <thead>\n",
       "    <tr style=\"text-align: right;\">\n",
       "      <th></th>\n",
       "      <th>test_statistic</th>\n",
       "      <th>p</th>\n",
       "      <th>-log2(p)</th>\n",
       "    </tr>\n",
       "  </thead>\n",
       "  <tbody>\n",
       "    <tr>\n",
       "      <th>0</th>\n",
       "      <td>3.13</td>\n",
       "      <td>0.08</td>\n",
       "      <td>3.70</td>\n",
       "    </tr>\n",
       "  </tbody>\n",
       "</table>"
      ],
      "text/latex": [
       "\\begin{tabular}{lrrr}\n",
       "\\toprule\n",
       "{} &  test\\_statistic &         p &  -log2(p) \\\\\n",
       "\\midrule\n",
       "0 &        3.130806 &  0.076826 &  3.702266 \\\\\n",
       "\\bottomrule\n",
       "\\end{tabular}\n"
      ],
      "text/plain": [
       "<lifelines.StatisticalResult: logrank_test>\n",
       "               t_0 = -1\n",
       " null_distribution = chi squared\n",
       "degrees_of_freedom = 1\n",
       "         test_name = logrank_test\n",
       "\n",
       "---\n",
       " test_statistic    p  -log2(p)\n",
       "           3.13 0.08      3.70"
      ]
     },
     "metadata": {},
     "output_type": "display_data"
    },
    {
     "name": "stdout",
     "output_type": "stream",
     "text": [
      "final conversion rate log-rank test for Niflheim:\n"
     ]
    },
    {
     "data": {
      "text/html": [
       "<div>\n",
       "<style scoped>\n",
       "    .dataframe tbody tr th:only-of-type {\n",
       "        vertical-align: middle;\n",
       "    }\n",
       "\n",
       "    .dataframe tbody tr th {\n",
       "        vertical-align: top;\n",
       "    }\n",
       "\n",
       "    .dataframe thead th {\n",
       "        text-align: right;\n",
       "    }\n",
       "</style>\n",
       "<table border=\"1\" class=\"dataframe\">\n",
       "  <tbody>\n",
       "    <tr>\n",
       "      <th>t_0</th>\n",
       "      <td>-1</td>\n",
       "    </tr>\n",
       "    <tr>\n",
       "      <th>null_distribution</th>\n",
       "      <td>chi squared</td>\n",
       "    </tr>\n",
       "    <tr>\n",
       "      <th>degrees_of_freedom</th>\n",
       "      <td>1</td>\n",
       "    </tr>\n",
       "    <tr>\n",
       "      <th>test_name</th>\n",
       "      <td>logrank_test</td>\n",
       "    </tr>\n",
       "  </tbody>\n",
       "</table>\n",
       "</div><table border=\"1\" class=\"dataframe\">\n",
       "  <thead>\n",
       "    <tr style=\"text-align: right;\">\n",
       "      <th></th>\n",
       "      <th>test_statistic</th>\n",
       "      <th>p</th>\n",
       "      <th>-log2(p)</th>\n",
       "    </tr>\n",
       "  </thead>\n",
       "  <tbody>\n",
       "    <tr>\n",
       "      <th>0</th>\n",
       "      <td>56.62</td>\n",
       "      <td>&lt;0.005</td>\n",
       "      <td>44.11</td>\n",
       "    </tr>\n",
       "  </tbody>\n",
       "</table>"
      ],
      "text/latex": [
       "\\begin{tabular}{lrrr}\n",
       "\\toprule\n",
       "{} &  test\\_statistic &             p &   -log2(p) \\\\\n",
       "\\midrule\n",
       "0 &       56.622325 &  5.280888e-14 &  44.106213 \\\\\n",
       "\\bottomrule\n",
       "\\end{tabular}\n"
      ],
      "text/plain": [
       "<lifelines.StatisticalResult: logrank_test>\n",
       "               t_0 = -1\n",
       " null_distribution = chi squared\n",
       "degrees_of_freedom = 1\n",
       "         test_name = logrank_test\n",
       "\n",
       "---\n",
       " test_statistic      p  -log2(p)\n",
       "          56.62 <0.005     44.11"
      ]
     },
     "metadata": {},
     "output_type": "display_data"
    },
    {
     "name": "stdout",
     "output_type": "stream",
     "text": [
      "final conversion rate log-rank test for Svartalfheim:\n"
     ]
    },
    {
     "data": {
      "text/html": [
       "<div>\n",
       "<style scoped>\n",
       "    .dataframe tbody tr th:only-of-type {\n",
       "        vertical-align: middle;\n",
       "    }\n",
       "\n",
       "    .dataframe tbody tr th {\n",
       "        vertical-align: top;\n",
       "    }\n",
       "\n",
       "    .dataframe thead th {\n",
       "        text-align: right;\n",
       "    }\n",
       "</style>\n",
       "<table border=\"1\" class=\"dataframe\">\n",
       "  <tbody>\n",
       "    <tr>\n",
       "      <th>t_0</th>\n",
       "      <td>-1</td>\n",
       "    </tr>\n",
       "    <tr>\n",
       "      <th>null_distribution</th>\n",
       "      <td>chi squared</td>\n",
       "    </tr>\n",
       "    <tr>\n",
       "      <th>degrees_of_freedom</th>\n",
       "      <td>1</td>\n",
       "    </tr>\n",
       "    <tr>\n",
       "      <th>test_name</th>\n",
       "      <td>logrank_test</td>\n",
       "    </tr>\n",
       "  </tbody>\n",
       "</table>\n",
       "</div><table border=\"1\" class=\"dataframe\">\n",
       "  <thead>\n",
       "    <tr style=\"text-align: right;\">\n",
       "      <th></th>\n",
       "      <th>test_statistic</th>\n",
       "      <th>p</th>\n",
       "      <th>-log2(p)</th>\n",
       "    </tr>\n",
       "  </thead>\n",
       "  <tbody>\n",
       "    <tr>\n",
       "      <th>0</th>\n",
       "      <td>1.25</td>\n",
       "      <td>0.26</td>\n",
       "      <td>1.93</td>\n",
       "    </tr>\n",
       "  </tbody>\n",
       "</table>"
      ],
      "text/latex": [
       "\\begin{tabular}{lrrr}\n",
       "\\toprule\n",
       "{} &  test\\_statistic &         p &  -log2(p) \\\\\n",
       "\\midrule\n",
       "0 &         1.25151 &  0.263264 &  1.925417 \\\\\n",
       "\\bottomrule\n",
       "\\end{tabular}\n"
      ],
      "text/plain": [
       "<lifelines.StatisticalResult: logrank_test>\n",
       "               t_0 = -1\n",
       " null_distribution = chi squared\n",
       "degrees_of_freedom = 1\n",
       "         test_name = logrank_test\n",
       "\n",
       "---\n",
       " test_statistic    p  -log2(p)\n",
       "           1.25 0.26      1.93"
      ]
     },
     "metadata": {},
     "output_type": "display_data"
    },
    {
     "name": "stdout",
     "output_type": "stream",
     "text": [
      "final conversion rate log-rank test for Vanaheim:\n"
     ]
    },
    {
     "data": {
      "text/html": [
       "<div>\n",
       "<style scoped>\n",
       "    .dataframe tbody tr th:only-of-type {\n",
       "        vertical-align: middle;\n",
       "    }\n",
       "\n",
       "    .dataframe tbody tr th {\n",
       "        vertical-align: top;\n",
       "    }\n",
       "\n",
       "    .dataframe thead th {\n",
       "        text-align: right;\n",
       "    }\n",
       "</style>\n",
       "<table border=\"1\" class=\"dataframe\">\n",
       "  <tbody>\n",
       "    <tr>\n",
       "      <th>t_0</th>\n",
       "      <td>-1</td>\n",
       "    </tr>\n",
       "    <tr>\n",
       "      <th>null_distribution</th>\n",
       "      <td>chi squared</td>\n",
       "    </tr>\n",
       "    <tr>\n",
       "      <th>degrees_of_freedom</th>\n",
       "      <td>1</td>\n",
       "    </tr>\n",
       "    <tr>\n",
       "      <th>test_name</th>\n",
       "      <td>logrank_test</td>\n",
       "    </tr>\n",
       "  </tbody>\n",
       "</table>\n",
       "</div><table border=\"1\" class=\"dataframe\">\n",
       "  <thead>\n",
       "    <tr style=\"text-align: right;\">\n",
       "      <th></th>\n",
       "      <th>test_statistic</th>\n",
       "      <th>p</th>\n",
       "      <th>-log2(p)</th>\n",
       "    </tr>\n",
       "  </thead>\n",
       "  <tbody>\n",
       "    <tr>\n",
       "      <th>0</th>\n",
       "      <td>41.68</td>\n",
       "      <td>&lt;0.005</td>\n",
       "      <td>33.12</td>\n",
       "    </tr>\n",
       "  </tbody>\n",
       "</table>"
      ],
      "text/latex": [
       "\\begin{tabular}{lrrr}\n",
       "\\toprule\n",
       "{} &  test\\_statistic &             p &  -log2(p) \\\\\n",
       "\\midrule\n",
       "0 &       41.681771 &  1.074057e-10 &  33.11621 \\\\\n",
       "\\bottomrule\n",
       "\\end{tabular}\n"
      ],
      "text/plain": [
       "<lifelines.StatisticalResult: logrank_test>\n",
       "               t_0 = -1\n",
       " null_distribution = chi squared\n",
       "degrees_of_freedom = 1\n",
       "         test_name = logrank_test\n",
       "\n",
       "---\n",
       " test_statistic      p  -log2(p)\n",
       "          41.68 <0.005     33.12"
      ]
     },
     "metadata": {},
     "output_type": "display_data"
    },
    {
     "data": {
      "image/png": "[encoded data removed]",
      "text/plain": [
       "<Figure size 504x288 with 1 Axes>"
      ]
     },
     "metadata": {
      "needs_background": "light"
     },
     "output_type": "display_data"
    },
    {
     "data": {
      "image/png": "[encoded data removed]",
      "text/plain": [
       "<Figure size 504x288 with 1 Axes>"
      ]
     },
     "metadata": {
      "needs_background": "light"
     },
     "output_type": "display_data"
    },
    {
     "data": {
      "image/png": "[encoded data removed]",
      "text/plain": [
       "<Figure size 504x288 with 1 Axes>"
      ]
     },
     "metadata": {
      "needs_background": "light"
     },
     "output_type": "display_data"
    },
    {
     "data": {
      "image/png": "[encoded data removed]",
      "text/plain": [
       "<Figure size 504x288 with 1 Axes>"
      ]
     },
     "metadata": {
      "needs_background": "light"
     },
     "output_type": "display_data"
    },
    {
     "data": {
      "image/png": "[encoded data removed]",
      "text/plain": [
       "<Figure size 504x288 with 1 Axes>"
      ]
     },
     "metadata": {
      "needs_background": "light"
     },
     "output_type": "display_data"
    },
    {
     "data": {
      "image/png": "[encoded data removed]",
      "text/plain": [
       "<Figure size 504x288 with 1 Axes>"
      ]
     },
     "metadata": {
      "needs_background": "light"
     },
     "output_type": "display_data"
    },
    {
     "data": {
      "image/png": "[encoded data removed]",
      "text/plain": [
       "<Figure size 504x288 with 1 Axes>"
      ]
     },
     "metadata": {
      "needs_background": "light"
     },
     "output_type": "display_data"
    },
    {
     "data": {
      "image/png": "[encoded data removed]",
      "text/plain": [
       "<Figure size 504x288 with 1 Axes>"
      ]
     },
     "metadata": {
      "needs_background": "light"
     },
     "output_type": "display_data"
    },
    {
     "data": {
      "image/png": "[encoded data removed]",
      "text/plain": [
       "<Figure size 504x288 with 1 Axes>"
      ]
     },
     "metadata": {
      "needs_background": "light"
     },
     "output_type": "display_data"
    }
   ],
   "source": [
    "# some cities have very small sample size\n",
    "cities = ['Alfheim', 'Asgard', 'Helheim', 'Jotunheim', 'Midgard', 'Muspelheim', 'Niflheim', 'Svartalfheim', 'Vanaheim']\n",
    "\n",
    "for city in cities:\n",
    "    kmf_c_c = KaplanMeierFitter()\n",
    "    kmf_t_c = KaplanMeierFitter()\n",
    "\n",
    "    # devide data into two groups\n",
    "    data_c_c = data_trans.loc[(data_trans['group'] == \"control\") & (data_trans['city'] == city)]\n",
    "    data_t_c = data_trans.loc[(data_trans['group'] == 'treatment') & (data_trans['city'] == city)]\n",
    "\n",
    "    # the 1st arg is a pd.Series of individual survival times\n",
    "    # the 2nd arg is a pd.Series that indicates if the event occured.\n",
    "    kmf_c_c.fit(durations = data_c_c['first_batch_completed_days'], \n",
    "          event_observed = data_c_c['first_batch_completed'], label = 'control')\n",
    "    kmf_t_c.fit(durations = data_t_c['first_batch_completed_days'], \n",
    "          event_observed = data_t_c['first_batch_completed'], label = 'treatment')\n",
    "\n",
    "    plt.figure(figsize=(7, 4))\n",
    "\n",
    "    kmf_c_c.plot_cumulative_density()\n",
    "    kmf_t_c.plot_cumulative_density()\n",
    "\n",
    "    plt.xlabel(\"Days passed\")\n",
    "    plt.ylabel(\"Cumulative density\")\n",
    "    plt.title('total shopper conversion for ' + city)\n",
    "    \n",
    "    time_c_c = data_c_c['first_batch_completed_days']\n",
    "    time_t_c = data_t_c['first_batch_completed_days']\n",
    "    \n",
    "    end_c_c = data_c_c['first_batch_completed']\n",
    "    end_t_c = data_t_c['first_batch_completed']\n",
    "    \n",
    "    results = logrank_test(time_c_c, time_t_c, event_observed_A = end_c_c, event_observed_B = end_t_c)\n",
    "    print('final conversion rate log-rank test for {}:'.format(city))\n",
    "    results.print_summary()"
   ]
  },
  {
   "cell_type": "code",
   "execution_count": null,
   "metadata": {},
   "outputs": [],
   "source": []
  },
  {
   "cell_type": "code",
   "execution_count": 24,
   "metadata": {},
   "outputs": [],
   "source": [
    "event_days_dict = {'card_mailed': 'card_mailed_days', \n",
    "                   'card_activated': 'card_activation_days', \n",
    "                   'orientation_completed': 'orientation_completed_days', \n",
    "                   'background_check_initiated': 'background_check_initiated_days',\n",
    "                   'background_check_completed': 'background_check_completed_days',\n",
    "                   'first_batch_completed': 'first_batch_completed_days'}"
   ]
  },
  {
   "cell_type": "code",
   "execution_count": 25,
   "metadata": {},
   "outputs": [
    {
     "data": {
      "image/png": "[encoded data removed]",
      "text/plain": [
       "<Figure size 504x288 with 1 Axes>"
      ]
     },
     "metadata": {
      "needs_background": "light"
     },
     "output_type": "display_data"
    },
    {
     "data": {
      "image/png": "[encoded data removed]",
      "text/plain": [
       "<Figure size 504x288 with 1 Axes>"
      ]
     },
     "metadata": {
      "needs_background": "light"
     },
     "output_type": "display_data"
    },
    {
     "data": {
      "image/png": "[encoded data removed]",
      "text/plain": [
       "<Figure size 504x288 with 1 Axes>"
      ]
     },
     "metadata": {
      "needs_background": "light"
     },
     "output_type": "display_data"
    },
    {
     "data": {
      "image/png": "[encoded data removed]",
      "text/plain": [
       "<Figure size 504x288 with 1 Axes>"
      ]
     },
     "metadata": {
      "needs_background": "light"
     },
     "output_type": "display_data"
    },
    {
     "data": {
      "image/png": "[encoded data removed]",
      "text/plain": [
       "<Figure size 504x288 with 1 Axes>"
      ]
     },
     "metadata": {
      "needs_background": "light"
     },
     "output_type": "display_data"
    },
    {
     "data": {
      "image/png": "[encoded data removed]",
      "text/plain": [
       "<Figure size 504x288 with 1 Axes>"
      ]
     },
     "metadata": {
      "needs_background": "light"
     },
     "output_type": "display_data"
    }
   ],
   "source": [
    "# create cumulative hazard plots:\n",
    "for event in event_days_dict.keys():\n",
    "    \n",
    "    kmf_c.fit(durations = data_c[event_days_dict[event]], \n",
    "          event_observed = data_c[event], label = 'control')\n",
    "    kmf_t.fit(durations = data_t[event_days_dict[event]], \n",
    "          event_observed = data_t[event], label = 'treatment')\n",
    "    \n",
    "    plt.figure(figsize=(7, 4))\n",
    "\n",
    "    kmf_c.plot_cumulative_density()\n",
    "    kmf_t.plot_cumulative_density()\n",
    "\n",
    "    plt.xlabel(\"Days passed\")\n",
    "    plt.ylabel(\"Cumulative density\")\n",
    "    plt.title(event)"
   ]
  },
  {
   "cell_type": "markdown",
   "metadata": {},
   "source": [
    "Log-Rank Test:\n",
    "\n"
   ]
  },
  {
   "cell_type": "code",
   "execution_count": 28,
   "metadata": {},
   "outputs": [
    {
     "name": "stdout",
     "output_type": "stream",
     "text": [
      "card_mailed summary:\n"
     ]
    },
    {
     "data": {
      "text/html": [
       "<div>\n",
       "<style scoped>\n",
       "    .dataframe tbody tr th:only-of-type {\n",
       "        vertical-align: middle;\n",
       "    }\n",
       "\n",
       "    .dataframe tbody tr th {\n",
       "        vertical-align: top;\n",
       "    }\n",
       "\n",
       "    .dataframe thead th {\n",
       "        text-align: right;\n",
       "    }\n",
       "</style>\n",
       "<table border=\"1\" class=\"dataframe\">\n",
       "  <tbody>\n",
       "    <tr>\n",
       "      <th>t_0</th>\n",
       "      <td>-1</td>\n",
       "    </tr>\n",
       "    <tr>\n",
       "      <th>null_distribution</th>\n",
       "      <td>chi squared</td>\n",
       "    </tr>\n",
       "    <tr>\n",
       "      <th>degrees_of_freedom</th>\n",
       "      <td>1</td>\n",
       "    </tr>\n",
       "    <tr>\n",
       "      <th>test_name</th>\n",
       "      <td>logrank_test</td>\n",
       "    </tr>\n",
       "  </tbody>\n",
       "</table>\n",
       "</div><table border=\"1\" class=\"dataframe\">\n",
       "  <thead>\n",
       "    <tr style=\"text-align: right;\">\n",
       "      <th></th>\n",
       "      <th>test_statistic</th>\n",
       "      <th>p</th>\n",
       "      <th>-log2(p)</th>\n",
       "    </tr>\n",
       "  </thead>\n",
       "  <tbody>\n",
       "    <tr>\n",
       "      <th>0</th>\n",
       "      <td>0.23</td>\n",
       "      <td>0.63</td>\n",
       "      <td>0.66</td>\n",
       "    </tr>\n",
       "  </tbody>\n",
       "</table>"
      ],
      "text/latex": [
       "\\begin{tabular}{lrrr}\n",
       "\\toprule\n",
       "{} &  test\\_statistic &        p &  -log2(p) \\\\\n",
       "\\midrule\n",
       "0 &        0.226903 &  0.63383 &  0.657833 \\\\\n",
       "\\bottomrule\n",
       "\\end{tabular}\n"
      ],
      "text/plain": [
       "<lifelines.StatisticalResult: logrank_test>\n",
       "               t_0 = -1\n",
       " null_distribution = chi squared\n",
       "degrees_of_freedom = 1\n",
       "         test_name = logrank_test\n",
       "\n",
       "---\n",
       " test_statistic    p  -log2(p)\n",
       "           0.23 0.63      0.66"
      ]
     },
     "metadata": {},
     "output_type": "display_data"
    },
    {
     "name": "stdout",
     "output_type": "stream",
     "text": [
      "card_activated summary:\n"
     ]
    },
    {
     "data": {
      "text/html": [
       "<div>\n",
       "<style scoped>\n",
       "    .dataframe tbody tr th:only-of-type {\n",
       "        vertical-align: middle;\n",
       "    }\n",
       "\n",
       "    .dataframe tbody tr th {\n",
       "        vertical-align: top;\n",
       "    }\n",
       "\n",
       "    .dataframe thead th {\n",
       "        text-align: right;\n",
       "    }\n",
       "</style>\n",
       "<table border=\"1\" class=\"dataframe\">\n",
       "  <tbody>\n",
       "    <tr>\n",
       "      <th>t_0</th>\n",
       "      <td>-1</td>\n",
       "    </tr>\n",
       "    <tr>\n",
       "      <th>null_distribution</th>\n",
       "      <td>chi squared</td>\n",
       "    </tr>\n",
       "    <tr>\n",
       "      <th>degrees_of_freedom</th>\n",
       "      <td>1</td>\n",
       "    </tr>\n",
       "    <tr>\n",
       "      <th>test_name</th>\n",
       "      <td>logrank_test</td>\n",
       "    </tr>\n",
       "  </tbody>\n",
       "</table>\n",
       "</div><table border=\"1\" class=\"dataframe\">\n",
       "  <thead>\n",
       "    <tr style=\"text-align: right;\">\n",
       "      <th></th>\n",
       "      <th>test_statistic</th>\n",
       "      <th>p</th>\n",
       "      <th>-log2(p)</th>\n",
       "    </tr>\n",
       "  </thead>\n",
       "  <tbody>\n",
       "    <tr>\n",
       "      <th>0</th>\n",
       "      <td>110.02</td>\n",
       "      <td>&lt;0.005</td>\n",
       "      <td>83.09</td>\n",
       "    </tr>\n",
       "  </tbody>\n",
       "</table>"
      ],
      "text/latex": [
       "\\begin{tabular}{lrrr}\n",
       "\\toprule\n",
       "{} &  test\\_statistic &             p &   -log2(p) \\\\\n",
       "\\midrule\n",
       "0 &       110.02144 &  9.693661e-26 &  83.093089 \\\\\n",
       "\\bottomrule\n",
       "\\end{tabular}\n"
      ],
      "text/plain": [
       "<lifelines.StatisticalResult: logrank_test>\n",
       "               t_0 = -1\n",
       " null_distribution = chi squared\n",
       "degrees_of_freedom = 1\n",
       "         test_name = logrank_test\n",
       "\n",
       "---\n",
       " test_statistic      p  -log2(p)\n",
       "         110.02 <0.005     83.09"
      ]
     },
     "metadata": {},
     "output_type": "display_data"
    },
    {
     "name": "stdout",
     "output_type": "stream",
     "text": [
      "orientation_completed summary:\n"
     ]
    },
    {
     "data": {
      "text/html": [
       "<div>\n",
       "<style scoped>\n",
       "    .dataframe tbody tr th:only-of-type {\n",
       "        vertical-align: middle;\n",
       "    }\n",
       "\n",
       "    .dataframe tbody tr th {\n",
       "        vertical-align: top;\n",
       "    }\n",
       "\n",
       "    .dataframe thead th {\n",
       "        text-align: right;\n",
       "    }\n",
       "</style>\n",
       "<table border=\"1\" class=\"dataframe\">\n",
       "  <tbody>\n",
       "    <tr>\n",
       "      <th>t_0</th>\n",
       "      <td>-1</td>\n",
       "    </tr>\n",
       "    <tr>\n",
       "      <th>null_distribution</th>\n",
       "      <td>chi squared</td>\n",
       "    </tr>\n",
       "    <tr>\n",
       "      <th>degrees_of_freedom</th>\n",
       "      <td>1</td>\n",
       "    </tr>\n",
       "    <tr>\n",
       "      <th>test_name</th>\n",
       "      <td>logrank_test</td>\n",
       "    </tr>\n",
       "  </tbody>\n",
       "</table>\n",
       "</div><table border=\"1\" class=\"dataframe\">\n",
       "  <thead>\n",
       "    <tr style=\"text-align: right;\">\n",
       "      <th></th>\n",
       "      <th>test_statistic</th>\n",
       "      <th>p</th>\n",
       "      <th>-log2(p)</th>\n",
       "    </tr>\n",
       "  </thead>\n",
       "  <tbody>\n",
       "    <tr>\n",
       "      <th>0</th>\n",
       "      <td>23.29</td>\n",
       "      <td>&lt;0.005</td>\n",
       "      <td>19.45</td>\n",
       "    </tr>\n",
       "  </tbody>\n",
       "</table>"
      ],
      "text/latex": [
       "\\begin{tabular}{lrrr}\n",
       "\\toprule\n",
       "{} &  test\\_statistic &         p &   -log2(p) \\\\\n",
       "\\midrule\n",
       "0 &       23.289954 &  0.000001 &  19.453106 \\\\\n",
       "\\bottomrule\n",
       "\\end{tabular}\n"
      ],
      "text/plain": [
       "<lifelines.StatisticalResult: logrank_test>\n",
       "               t_0 = -1\n",
       " null_distribution = chi squared\n",
       "degrees_of_freedom = 1\n",
       "         test_name = logrank_test\n",
       "\n",
       "---\n",
       " test_statistic      p  -log2(p)\n",
       "          23.29 <0.005     19.45"
      ]
     },
     "metadata": {},
     "output_type": "display_data"
    },
    {
     "name": "stdout",
     "output_type": "stream",
     "text": [
      "background_check_initiated summary:\n"
     ]
    },
    {
     "data": {
      "text/html": [
       "<div>\n",
       "<style scoped>\n",
       "    .dataframe tbody tr th:only-of-type {\n",
       "        vertical-align: middle;\n",
       "    }\n",
       "\n",
       "    .dataframe tbody tr th {\n",
       "        vertical-align: top;\n",
       "    }\n",
       "\n",
       "    .dataframe thead th {\n",
       "        text-align: right;\n",
       "    }\n",
       "</style>\n",
       "<table border=\"1\" class=\"dataframe\">\n",
       "  <tbody>\n",
       "    <tr>\n",
       "      <th>t_0</th>\n",
       "      <td>-1</td>\n",
       "    </tr>\n",
       "    <tr>\n",
       "      <th>null_distribution</th>\n",
       "      <td>chi squared</td>\n",
       "    </tr>\n",
       "    <tr>\n",
       "      <th>degrees_of_freedom</th>\n",
       "      <td>1</td>\n",
       "    </tr>\n",
       "    <tr>\n",
       "      <th>test_name</th>\n",
       "      <td>logrank_test</td>\n",
       "    </tr>\n",
       "  </tbody>\n",
       "</table>\n",
       "</div><table border=\"1\" class=\"dataframe\">\n",
       "  <thead>\n",
       "    <tr style=\"text-align: right;\">\n",
       "      <th></th>\n",
       "      <th>test_statistic</th>\n",
       "      <th>p</th>\n",
       "      <th>-log2(p)</th>\n",
       "    </tr>\n",
       "  </thead>\n",
       "  <tbody>\n",
       "    <tr>\n",
       "      <th>0</th>\n",
       "      <td>21697.00</td>\n",
       "      <td>&lt;0.005</td>\n",
       "      <td>inf</td>\n",
       "    </tr>\n",
       "  </tbody>\n",
       "</table>"
      ],
      "text/latex": [
       "\\begin{tabular}{lrrr}\n",
       "\\toprule\n",
       "{} &  test\\_statistic &    p &  -log2(p) \\\\\n",
       "\\midrule\n",
       "0 &         21697.0 &  0.0 &       inf \\\\\n",
       "\\bottomrule\n",
       "\\end{tabular}\n"
      ],
      "text/plain": [
       "<lifelines.StatisticalResult: logrank_test>\n",
       "               t_0 = -1\n",
       " null_distribution = chi squared\n",
       "degrees_of_freedom = 1\n",
       "         test_name = logrank_test\n",
       "\n",
       "---\n",
       " test_statistic      p  -log2(p)\n",
       "       21697.00 <0.005       inf"
      ]
     },
     "metadata": {},
     "output_type": "display_data"
    },
    {
     "name": "stdout",
     "output_type": "stream",
     "text": [
      "background_check_completed summary:\n"
     ]
    },
    {
     "data": {
      "text/html": [
       "<div>\n",
       "<style scoped>\n",
       "    .dataframe tbody tr th:only-of-type {\n",
       "        vertical-align: middle;\n",
       "    }\n",
       "\n",
       "    .dataframe tbody tr th {\n",
       "        vertical-align: top;\n",
       "    }\n",
       "\n",
       "    .dataframe thead th {\n",
       "        text-align: right;\n",
       "    }\n",
       "</style>\n",
       "<table border=\"1\" class=\"dataframe\">\n",
       "  <tbody>\n",
       "    <tr>\n",
       "      <th>t_0</th>\n",
       "      <td>-1</td>\n",
       "    </tr>\n",
       "    <tr>\n",
       "      <th>null_distribution</th>\n",
       "      <td>chi squared</td>\n",
       "    </tr>\n",
       "    <tr>\n",
       "      <th>degrees_of_freedom</th>\n",
       "      <td>1</td>\n",
       "    </tr>\n",
       "    <tr>\n",
       "      <th>test_name</th>\n",
       "      <td>logrank_test</td>\n",
       "    </tr>\n",
       "  </tbody>\n",
       "</table>\n",
       "</div><table border=\"1\" class=\"dataframe\">\n",
       "  <thead>\n",
       "    <tr style=\"text-align: right;\">\n",
       "      <th></th>\n",
       "      <th>test_statistic</th>\n",
       "      <th>p</th>\n",
       "      <th>-log2(p)</th>\n",
       "    </tr>\n",
       "  </thead>\n",
       "  <tbody>\n",
       "    <tr>\n",
       "      <th>0</th>\n",
       "      <td>8628.10</td>\n",
       "      <td>&lt;0.005</td>\n",
       "      <td>inf</td>\n",
       "    </tr>\n",
       "  </tbody>\n",
       "</table>"
      ],
      "text/latex": [
       "\\begin{tabular}{lrrr}\n",
       "\\toprule\n",
       "{} &  test\\_statistic &    p &  -log2(p) \\\\\n",
       "\\midrule\n",
       "0 &     8628.095958 &  0.0 &       inf \\\\\n",
       "\\bottomrule\n",
       "\\end{tabular}\n"
      ],
      "text/plain": [
       "<lifelines.StatisticalResult: logrank_test>\n",
       "               t_0 = -1\n",
       " null_distribution = chi squared\n",
       "degrees_of_freedom = 1\n",
       "         test_name = logrank_test\n",
       "\n",
       "---\n",
       " test_statistic      p  -log2(p)\n",
       "        8628.10 <0.005       inf"
      ]
     },
     "metadata": {},
     "output_type": "display_data"
    },
    {
     "name": "stdout",
     "output_type": "stream",
     "text": [
      "first_batch_completed summary:\n"
     ]
    },
    {
     "data": {
      "text/html": [
       "<div>\n",
       "<style scoped>\n",
       "    .dataframe tbody tr th:only-of-type {\n",
       "        vertical-align: middle;\n",
       "    }\n",
       "\n",
       "    .dataframe tbody tr th {\n",
       "        vertical-align: top;\n",
       "    }\n",
       "\n",
       "    .dataframe thead th {\n",
       "        text-align: right;\n",
       "    }\n",
       "</style>\n",
       "<table border=\"1\" class=\"dataframe\">\n",
       "  <tbody>\n",
       "    <tr>\n",
       "      <th>t_0</th>\n",
       "      <td>-1</td>\n",
       "    </tr>\n",
       "    <tr>\n",
       "      <th>null_distribution</th>\n",
       "      <td>chi squared</td>\n",
       "    </tr>\n",
       "    <tr>\n",
       "      <th>degrees_of_freedom</th>\n",
       "      <td>1</td>\n",
       "    </tr>\n",
       "    <tr>\n",
       "      <th>test_name</th>\n",
       "      <td>logrank_test</td>\n",
       "    </tr>\n",
       "  </tbody>\n",
       "</table>\n",
       "</div><table border=\"1\" class=\"dataframe\">\n",
       "  <thead>\n",
       "    <tr style=\"text-align: right;\">\n",
       "      <th></th>\n",
       "      <th>test_statistic</th>\n",
       "      <th>p</th>\n",
       "      <th>-log2(p)</th>\n",
       "    </tr>\n",
       "  </thead>\n",
       "  <tbody>\n",
       "    <tr>\n",
       "      <th>0</th>\n",
       "      <td>761.97</td>\n",
       "      <td>&lt;0.005</td>\n",
       "      <td>554.76</td>\n",
       "    </tr>\n",
       "  </tbody>\n",
       "</table>"
      ],
      "text/latex": [
       "\\begin{tabular}{lrrr}\n",
       "\\toprule\n",
       "{} &  test\\_statistic &              p &    -log2(p) \\\\\n",
       "\\midrule\n",
       "0 &        761.9675 &  1.002913e-167 &  554.757795 \\\\\n",
       "\\bottomrule\n",
       "\\end{tabular}\n"
      ],
      "text/plain": [
       "<lifelines.StatisticalResult: logrank_test>\n",
       "               t_0 = -1\n",
       " null_distribution = chi squared\n",
       "degrees_of_freedom = 1\n",
       "         test_name = logrank_test\n",
       "\n",
       "---\n",
       " test_statistic      p  -log2(p)\n",
       "         761.97 <0.005    554.76"
      ]
     },
     "metadata": {},
     "output_type": "display_data"
    }
   ],
   "source": [
    "# define variables:\n",
    "\n",
    "for event in event_days_dict.keys():\n",
    "    time_c = data_c[event_days_dict[event]]\n",
    "    time_t = data_t[event_days_dict[event]]\n",
    "    \n",
    "    end_c = data_c[event]\n",
    "    end_t = data_t[event]\n",
    "    \n",
    "    results = logrank_test(time_c, time_t, event_observed_A = end_c, event_observed_B = end_t)\n",
    "    print(event, \"summary:\")\n",
    "    results.print_summary()"
   ]
  },
  {
   "cell_type": "code",
   "execution_count": 27,
   "metadata": {},
   "outputs": [
    {
     "data": {
      "image/png": "[encoded data removed]",
      "text/plain": [
       "<Figure size 504x288 with 1 Axes>"
      ]
     },
     "metadata": {
      "needs_background": "light"
     },
     "output_type": "display_data"
    },
    {
     "data": {
      "image/png": "[encoded data removed]",
      "text/plain": [
       "<Figure size 504x288 with 1 Axes>"
      ]
     },
     "metadata": {
      "needs_background": "light"
     },
     "output_type": "display_data"
    }
   ],
   "source": [
    "# create cumulative hazard plots:\n",
    "for event in event_days_dict2.keys():\n",
    "    \n",
    "    kmf_c.fit(durations = data_c[event_days_dict2[event]], \n",
    "          event_observed = data_c[event], label = 'control')\n",
    "    kmf_t.fit(durations = data_t[event_days_dict2[event]], \n",
    "          event_observed = data_t[event], label = 'treatment')\n",
    "    \n",
    "    plt.figure(figsize=(7, 4))\n",
    "\n",
    "    kmf_c.plot_cumulative_density()\n",
    "    kmf_t.plot_cumulative_density()\n",
    "\n",
    "    plt.xlabel(\"Days passed\")\n",
    "    plt.ylabel(\"Cumulative density\")\n",
    "    plt.title(event_days_dict2[event])"
   ]
  },
  {
   "cell_type": "code",
   "execution_count": 26,
   "metadata": {},
   "outputs": [],
   "source": [
    "event_days_dict2 = {'background_check_completed': 'background_check_days',\n",
    "                    'first_batch_completed': 'bc_to_first_batch_days'}"
   ]
  },
  {
   "cell_type": "code",
   "execution_count": 29,
   "metadata": {},
   "outputs": [
    {
     "name": "stdout",
     "output_type": "stream",
     "text": [
      "background_check_days summary:\n"
     ]
    },
    {
     "data": {
      "text/html": [
       "<div>\n",
       "<style scoped>\n",
       "    .dataframe tbody tr th:only-of-type {\n",
       "        vertical-align: middle;\n",
       "    }\n",
       "\n",
       "    .dataframe tbody tr th {\n",
       "        vertical-align: top;\n",
       "    }\n",
       "\n",
       "    .dataframe thead th {\n",
       "        text-align: right;\n",
       "    }\n",
       "</style>\n",
       "<table border=\"1\" class=\"dataframe\">\n",
       "  <tbody>\n",
       "    <tr>\n",
       "      <th>t_0</th>\n",
       "      <td>-1</td>\n",
       "    </tr>\n",
       "    <tr>\n",
       "      <th>null_distribution</th>\n",
       "      <td>chi squared</td>\n",
       "    </tr>\n",
       "    <tr>\n",
       "      <th>degrees_of_freedom</th>\n",
       "      <td>1</td>\n",
       "    </tr>\n",
       "    <tr>\n",
       "      <th>test_name</th>\n",
       "      <td>logrank_test</td>\n",
       "    </tr>\n",
       "  </tbody>\n",
       "</table>\n",
       "</div><table border=\"1\" class=\"dataframe\">\n",
       "  <thead>\n",
       "    <tr style=\"text-align: right;\">\n",
       "      <th></th>\n",
       "      <th>test_statistic</th>\n",
       "      <th>p</th>\n",
       "      <th>-log2(p)</th>\n",
       "    </tr>\n",
       "  </thead>\n",
       "  <tbody>\n",
       "    <tr>\n",
       "      <th>0</th>\n",
       "      <td>1318.30</td>\n",
       "      <td>&lt;0.005</td>\n",
       "      <td>956.46</td>\n",
       "    </tr>\n",
       "  </tbody>\n",
       "</table>"
      ],
      "text/latex": [
       "\\begin{tabular}{lrrr}\n",
       "\\toprule\n",
       "{} &  test\\_statistic &              p &    -log2(p) \\\\\n",
       "\\midrule\n",
       "0 &     1318.304507 &  1.189644e-288 &  956.464761 \\\\\n",
       "\\bottomrule\n",
       "\\end{tabular}\n"
      ],
      "text/plain": [
       "<lifelines.StatisticalResult: logrank_test>\n",
       "               t_0 = -1\n",
       " null_distribution = chi squared\n",
       "degrees_of_freedom = 1\n",
       "         test_name = logrank_test\n",
       "\n",
       "---\n",
       " test_statistic      p  -log2(p)\n",
       "        1318.30 <0.005    956.46"
      ]
     },
     "metadata": {},
     "output_type": "display_data"
    },
    {
     "name": "stdout",
     "output_type": "stream",
     "text": [
      "bc_to_first_batch_days summary:\n"
     ]
    },
    {
     "data": {
      "text/html": [
       "<div>\n",
       "<style scoped>\n",
       "    .dataframe tbody tr th:only-of-type {\n",
       "        vertical-align: middle;\n",
       "    }\n",
       "\n",
       "    .dataframe tbody tr th {\n",
       "        vertical-align: top;\n",
       "    }\n",
       "\n",
       "    .dataframe thead th {\n",
       "        text-align: right;\n",
       "    }\n",
       "</style>\n",
       "<table border=\"1\" class=\"dataframe\">\n",
       "  <tbody>\n",
       "    <tr>\n",
       "      <th>t_0</th>\n",
       "      <td>-1</td>\n",
       "    </tr>\n",
       "    <tr>\n",
       "      <th>null_distribution</th>\n",
       "      <td>chi squared</td>\n",
       "    </tr>\n",
       "    <tr>\n",
       "      <th>degrees_of_freedom</th>\n",
       "      <td>1</td>\n",
       "    </tr>\n",
       "    <tr>\n",
       "      <th>test_name</th>\n",
       "      <td>logrank_test</td>\n",
       "    </tr>\n",
       "  </tbody>\n",
       "</table>\n",
       "</div><table border=\"1\" class=\"dataframe\">\n",
       "  <thead>\n",
       "    <tr style=\"text-align: right;\">\n",
       "      <th></th>\n",
       "      <th>test_statistic</th>\n",
       "      <th>p</th>\n",
       "      <th>-log2(p)</th>\n",
       "    </tr>\n",
       "  </thead>\n",
       "  <tbody>\n",
       "    <tr>\n",
       "      <th>0</th>\n",
       "      <td>467.76</td>\n",
       "      <td>&lt;0.005</td>\n",
       "      <td>342.18</td>\n",
       "    </tr>\n",
       "  </tbody>\n",
       "</table>"
      ],
      "text/latex": [
       "\\begin{tabular}{lrrr}\n",
       "\\toprule\n",
       "{} &  test\\_statistic &              p &    -log2(p) \\\\\n",
       "\\midrule\n",
       "0 &      467.758409 &  9.852755e-104 &  342.179995 \\\\\n",
       "\\bottomrule\n",
       "\\end{tabular}\n"
      ],
      "text/plain": [
       "<lifelines.StatisticalResult: logrank_test>\n",
       "               t_0 = -1\n",
       " null_distribution = chi squared\n",
       "degrees_of_freedom = 1\n",
       "         test_name = logrank_test\n",
       "\n",
       "---\n",
       " test_statistic      p  -log2(p)\n",
       "         467.76 <0.005    342.18"
      ]
     },
     "metadata": {},
     "output_type": "display_data"
    }
   ],
   "source": [
    "# Log rank test for background check waiting period\n",
    "for event in event_days_dict2.keys():\n",
    "    time_c = data_c[event_days_dict2[event]]\n",
    "    time_t = data_t[event_days_dict2[event]]\n",
    "    \n",
    "    end_c = data_c[event]\n",
    "    end_t = data_t[event]\n",
    "    \n",
    "    results = logrank_test(time_c, time_t, event_observed_A = end_c, event_observed_B = end_t)\n",
    "    print(event_days_dict2[event], \"summary:\")\n",
    "    results.print_summary()"
   ]
  },
  {
   "cell_type": "markdown",
   "metadata": {},
   "source": [
    "The log-rank test is a hypothesis test to compare the survival distribution of two samples. It is widely used to establish the efficacy of a new treatment in comparison with a control treatment when the measurement is the time to event (such as the time from initial treatment to a heart attack). "
   ]
  },
  {
   "cell_type": "markdown",
   "metadata": {},
   "source": [
    "首先第一点，我们需要把所有的用户时间段对齐，把他的注册时间作为起点，实验截止时间或者drop out的时间作为终点。那么我们就会得到一大堆censored data，例子如下\n",
    "\n",
    "Chart: Time since application in days\n",
    "\n",
    "Arm\t        User Id\tTime to Event\tEvent  \n",
    "Treatment\t001\t    7 days\t        stay\n",
    "Control\t    002\t    11 days\t        drop out\n",
    "Treatment\t003\t    11 days\t        drop out\n",
    "...\t...\t...\t...\n",
    "\n",
    "我们需要比较的metric应该是survival rate或者hazard rate。不懂得小伙伴可以看看survival analysis。\n",
    "survival rate 的定义是，从用户注册账户，到特定时间点，用户有多大概率还在使用这个App。\n",
    "\n",
    "然后如果我们想test survival data，一般来说有两种方法:\n",
    "\n",
    "1. 计算一个Cox model，然后test cox model的coefficient是不是 significant\n",
    "2. 用logrank test\n",
    "\n",
    "logrank test的思想是，假设control 和 treatment的 survival rate一样。\n",
    "那么在一个时间点上，treatment或者control里面，drop out users的数量应该服从一个超几何分布。\n",
    "可以理解成，在某个时间天，1000个active （500 control, 500 treatment）的user中，drop out了10个user。\n",
    "那么treatment arm里面的drop out的数量其实是相当于从这1000个 user 里面随机抽500个然后drop out的数量 \n",
    "（因为我们假设treatment 和 control完全一样）。\n",
    "在这个时间点上，我们是知道这个超几何分布的 mean 和 variance，所以我们把很多时间点的数据加起来，\n",
    "用central limit theorem就可以得到一个testing statistics。"
   ]
  },
  {
   "cell_type": "markdown",
   "metadata": {},
   "source": [
    "we focus on right censoring, which occurs when T >= Y, i.e. the true event time T is at least as large as the observed time Y. \n",
    "Right censoring derives its name from the fact that time is typically displayed from left to right. \n",
    "\n",
    "Left censoring: the true event time T is less than or equal to the observed time Y.\n",
    "\n",
    "lifelines.utils.restricted_mean_survival_time(m,t)\n",
    "You KM curve probably doesn't hit zero, so the correct answer for t=None (not specified,i.e. all time) is infinity. \n",
    "It's up to you to set a meaningful end point.\n",
    "\n",
    "The survival curve is defined as S(t) = Pr(T>t). This decreasing function quantifies the probability of surviving beyond a given time\n",
    "t. Let T represent the time that a shoper delivered the first batch. Then S(t) represents the probability that a shoper deliver\n",
    "the first batch later than time t. The large the value of S(t), the less likely that the shoper will deliver the first batch before time t. \n",
    "\n",
    "We wish to compare the survival of males to that of females. Figure shows the Kaplan-Meier survival curves for the two groups.\n",
    "The Log-Rank test is to test the equality of the two survival curves. \n",
    "\n",
    "Null hypothesis is no difference in survival between the two groups. When the sample size is large, the log-rank test statistic W has approximately a standard normal distribution. This can be used to compute a p-value for the null hypothesis that there is no difference between the survival curves in the two groups. "
   ]
  },
  {
   "cell_type": "markdown",
   "metadata": {},
   "source": [
    "一个A/B test的data set。要求present key findings，然后give recommendation。还有一些marketing budget的影响。\n",
    "这个test的特点是 A 和 B 是两个不同的onboarding process，所以最好把整个的conversion funnel 画出来，然后给每一个step的churn rate，不要只给一个final conversion rate。\n",
    "5. On-site.\n",
    "a - Review take home HW. 就是把自己的finding present给interviewer。如果HW做得好，interviewer不会有太多问题。\n",
    "\n",
    "business context很重要，我之前没有说清楚背景。\n",
    "我想说的是business hypothesis比a/b test hypothesis的框架要大。一个business hypothesis可以对多个a/b test hypotheses。\n",
    "这个hw的business hypothesis是缩短onboarding process可以降低churn。在这个hypothesis下，以下几个a/b test hypotheses都可以成立：. 1point3acres\n",
    "H0: total churn in control = total churn in test\n",
    "Ha: total churn in control > total churn in test\n",
    "H0: churn of steps 1-4 in control = churn of steps 1-4 in test\n",
    "Ha: churn of steps 1-4 in control > churn of steps 1-4 in test\n",
    "H0: churn of steps 1-3 in control = churn of steps 1-3 in test\n",
    "Ha: churn of steps 1-3 in control > churn of steps 1-3 in test\n",
    "H0: churn of steps 3 in control = churn of steps 3 in test\n",
    "Ha: churn of steps 3 in control > churn of steps 3 in test\n",
    "H0: churn of steps 4 in control = churn of steps 4 in test\n",
    "Ha: churn of steps 4 in control > churn of steps 4 in test\n",
    "H0: churn of steps 5 in control = churn of steps 5 in test\n",
    "Ha: churn of steps 5 in control > churn of steps 5 in test\n",
    "所以才要拆开分析，进而多方面证明business hypothesis。\n",
    "\n",
    "单从hypothesis testing的角度讲，你说的没有错。\n",
    "可是从product intuition的角度讲，就会复杂一点。这个test背后的assumption是缩短onboarding process可以降低churn。\n",
    "a-b-c-d-e\n",
    "a-b-f-d-e\n",
    "假设这两个流程的duration是\n",
    "15min - 15min - 15min -15min -15min\n",
    "15min - 15min - 5min -15min -15min\n",
    "cumulative time是\n",
    "15min - 30min - 45min - 60min - 75min\n",
    "15min - 30min - 35min - 50min - 65min\n",
    "第四、五的duration没有变，但是cumulative time变了。\n",
    "如果相对应的churn没有变，那说明churn不被cumulative time影响。进一步说明每个步骤的churn是independent，改变第三步不影响之后的步骤。\n",
    "如果相对应的churn变了，说明churn会被cumulative time影响。那么，以后应该缩短靠前的步骤的duration，这样会缩短后面每一步的cumulative time，进而reduce churn。\n",
    "这样分析可以更精确地了解哪个factor在影响churn。"
   ]
  },
  {
   "cell_type": "code",
   "execution_count": 54,
   "metadata": {},
   "outputs": [],
   "source": [
    "df = pd.DataFrame(data.pivot('applicant_id','event','event_date').\\\n",
    "        assign(days = lambda x: x['first_batch_completed_date'] - x['application_date'])['days'])\n",
    "df['days'] = df['days'].dt.days\n",
    "data_trans = pd.merge(data_trans, df, on = \"applicant_id\")"
   ]
  },
  {
   "cell_type": "code",
   "execution_count": 77,
   "metadata": {},
   "outputs": [
    {
     "data": {
      "text/plain": [
       "3.0704817723391553"
      ]
     },
     "execution_count": 77,
     "metadata": {},
     "output_type": "execute_result"
    }
   ],
   "source": [
    "delta_days = data_trans.groupby(['group']).agg({'days': 'mean'})['days']['control'] - data_trans.groupby(['group']).agg({'days': 'mean'})['days']['treatment']\n",
    "delta_days"
   ]
  },
  {
   "cell_type": "code",
   "execution_count": 78,
   "metadata": {},
   "outputs": [
    {
     "data": {
      "text/plain": [
       "0.14521323444492285"
      ]
     },
     "execution_count": 78,
     "metadata": {},
     "output_type": "execute_result"
    }
   ],
   "source": [
    "delta_prob = (1 - kmf_t.predict(41) - (1 - kmf_c.predict(41)))\n",
    "delta_prob"
   ]
  },
  {
   "cell_type": "code",
   "execution_count": 82,
   "metadata": {},
   "outputs": [
    {
     "data": {
      "text/plain": [
       "True"
      ]
     },
     "execution_count": 82,
     "metadata": {},
     "output_type": "execute_result"
    }
   ],
   "source": [
    "delta_days * 80 * 0.05 > delta_prob * 30"
   ]
  },
  {
   "cell_type": "code",
   "execution_count": 83,
   "metadata": {},
   "outputs": [
    {
     "data": {
      "text/plain": [
       "True"
      ]
     },
     "execution_count": 83,
     "metadata": {},
     "output_type": "execute_result"
    }
   ],
   "source": [
    "delta_days * 80 * 0.05 > delta_prob * 50"
   ]
  },
  {
   "cell_type": "code",
   "execution_count": 84,
   "metadata": {},
   "outputs": [
    {
     "data": {
      "text/plain": [
       "False"
      ]
     },
     "execution_count": 84,
     "metadata": {},
     "output_type": "execute_result"
    }
   ],
   "source": [
    "delta_days * 80 * 0.05 > delta_prob * 100"
   ]
  },
  {
   "cell_type": "code",
   "execution_count": null,
   "metadata": {},
   "outputs": [],
   "source": []
  }
 ],
 "metadata": {
  "kernelspec": {
   "display_name": "Python 3",
   "language": "python",
   "name": "python3"
  },
  "language_info": {
   "codemirror_mode": {
    "name": "ipython",
    "version": 3
   },
   "file_extension": ".py",
   "mimetype": "text/x-python",
   "name": "python",
   "nbconvert_exporter": "python",
   "pygments_lexer": "ipython3",
   "version": "3.7.6"
  }
 },
 "nbformat": 4,
 "nbformat_minor": 4
}
